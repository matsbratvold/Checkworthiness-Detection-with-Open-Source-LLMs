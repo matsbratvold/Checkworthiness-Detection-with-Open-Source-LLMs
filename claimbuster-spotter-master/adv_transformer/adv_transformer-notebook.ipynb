{
  "nbformat": 4,
  "nbformat_minor": 0,
  "metadata": {
    "colab": {
      "name": "ClaimBuster_Adversarial_Transformers.ipynb",
      "provenance": [],
      "collapsed_sections": []
    },
    "kernelspec": {
      "name": "python3",
      "display_name": "Python 3"
    },
    "accelerator": "GPU"
  },
  "cells": [
    {
      "cell_type": "markdown",
      "metadata": {
        "id": "iIsVQyq8hb_c"
      },
      "source": [
        "# Information"
      ]
    },
    {
      "cell_type": "markdown",
      "metadata": {
        "id": "VYZlrsxTW3_T"
      },
      "source": [
        "Links to Google Colab containing other claim spotting models can be found below:\r\n",
        "\r\n",
        "\r\n",
        "*   [BiLSTM](https://colab.research.google.com/github/idirlab/claimspotter/blob/master/bidirectional_lstm/bilstm-notebook.ipynb)\r\n",
        "*   [SVM](https://colab.research.google.com/github/idirlab/claimspotter/blob/master/svm/svm-notebook.ipynb)\r\n",
        "\r\n"
      ]
    },
    {
      "cell_type": "markdown",
      "metadata": {
        "id": "CZZ8f3i3hfYI"
      },
      "source": [
        "    Copyright (C) 2020 IDIR Lab - UT Arlington\r\n",
        "\r\n",
        "    This program is free software: you can redistribute it and/or modify\r\n",
        "    it under the terms of the GNU General Public License v3 as published by\r\n",
        "    the Free Software Foundation.\r\n",
        "\r\n",
        "    This program is distributed in the hope that it will be useful,\r\n",
        "    but WITHOUT ANY WARRANTY; without even the implied warranty of\r\n",
        "    MERCHANTABILITY or FITNESS FOR A PARTICULAR PURPOSE. See the\r\n",
        "    GNU General Public License for more details.\r\n",
        "\r\n",
        "    You should have received a copy of the GNU General Public License\r\n",
        "    along with this program.  If not, see <https://www.gnu.org/licenses/>.\r\n",
        "\r\n",
        "    Contact Information:\r\n",
        "    See: https://idir.uta.edu/cli.html\r\n",
        "\r\n",
        "    Chengkai Li\r\n",
        "    Box 19015\r\n",
        "    Arlington, TX 76019\r\n"
      ]
    },
    {
      "cell_type": "markdown",
      "metadata": {
        "id": "ERl7MzA-yumh"
      },
      "source": [
        "# Import Requirements"
      ]
    },
    {
      "cell_type": "code",
      "metadata": {
        "id": "Z0O8wRXsLe_8"
      },
      "source": [
        "!git clone --branch develop_new_models https://github.com/idirlab/claimspotter.git\r\n",
        "!pip3 install transformers==3.5.1\r\n",
        "!pip3 install emoji\r\n",
        "\r\n",
        "%cd claimspotter"
      ],
      "execution_count": null,
      "outputs": []
    },
    {
      "cell_type": "markdown",
      "metadata": {
        "id": "pWYfq1zZfyc5"
      },
      "source": [
        "## Model output folders"
      ]
    },
    {
      "cell_type": "code",
      "metadata": {
        "id": "ilPe1se5gaiO"
      },
      "source": [
        "import os\r\n",
        "\r\n",
        "os.environ[\"BB\"] = \"./output/bb/\"\r\n",
        "os.environ[\"BBA\"] = \"./output/bba/\"\r\n",
        "os.environ[\"DB\"] = \"./output/db/\"\r\n",
        "os.environ[\"DBA\"] = \"./output/dba/\"\r\n",
        "os.environ[\"RB\"] = \"./output/rb/\"\r\n",
        "os.environ[\"RBA\"] = \"./output/rba/\""
      ],
      "execution_count": null,
      "outputs": []
    },
    {
      "cell_type": "markdown",
      "metadata": {
        "id": "Y_PdF4zdy0re"
      },
      "source": [
        "# BERT models"
      ]
    },
    {
      "cell_type": "markdown",
      "metadata": {
        "id": "chgaME0gzUT9"
      },
      "source": [
        "### Standard BERT model training"
      ]
    },
    {
      "cell_type": "code",
      "metadata": {
        "id": "LAAhE4imnlAM"
      },
      "source": [
        "!python3 -m adv_transformer.train \\\r\n",
        "    --cs_model_dir=$BB \\\r\n",
        "    --cs_adv_train=False \\\r\n",
        "    --cs_gpu=0 \\\r\n",
        "    --cs_train_steps=5"
      ],
      "execution_count": null,
      "outputs": []
    },
    {
      "cell_type": "markdown",
      "metadata": {
        "id": "V5DpLL03WJ-v"
      },
      "source": [
        "Demonstration of the BERT claimspotting model"
      ]
    },
    {
      "cell_type": "code",
      "metadata": {
        "id": "73EtHQT9uMCP"
      },
      "source": [
        "!python3 -m adv_transformer.demo \\\r\n",
        "    --cs_model_dir=$BB \\\r\n",
        "    --cs_gpu=0 "
      ],
      "execution_count": null,
      "outputs": []
    },
    {
      "cell_type": "markdown",
      "metadata": {
        "id": "6RaCy2vEzbTL"
      },
      "source": [
        "### Adversarial BERT model training"
      ]
    },
    {
      "cell_type": "code",
      "metadata": {
        "id": "pmBLZuntzTc7"
      },
      "source": [
        "!python3 -m adv_transformer.train \\\r\n",
        "    --cs_model_dir=$BBA \\\r\n",
        "    --cs_adv_train=True \\\r\n",
        "    --cs_gpu=0 \\\r\n",
        "    --cs_train_steps=10 \\\r\n",
        "    --cs_batch_size_adv=12 \\\r\n",
        "    --cs_lambda=0.1"
      ],
      "execution_count": null,
      "outputs": []
    },
    {
      "cell_type": "markdown",
      "metadata": {
        "id": "kGtvBK2PWU4c"
      },
      "source": [
        "Demonstration of the adversarially-trained BERT claimspotting model "
      ]
    },
    {
      "cell_type": "code",
      "metadata": {
        "id": "RM11sKu8WT-9"
      },
      "source": [
        "!python3 -m adv_transformer.demo \\\r\n",
        "    --cs_model_dir=$BBA \\\r\n",
        "    --cs_gpu=0 "
      ],
      "execution_count": null,
      "outputs": []
    },
    {
      "cell_type": "markdown",
      "metadata": {
        "id": "wQu21DUwzBpG"
      },
      "source": [
        "# DistilBERT models"
      ]
    },
    {
      "cell_type": "markdown",
      "metadata": {
        "id": "tWwK8fqz0z8B"
      },
      "source": [
        "### Standard DistilBERT training"
      ]
    },
    {
      "cell_type": "code",
      "metadata": {
        "id": "gB0jgLp_0zrL"
      },
      "source": [
        "!python3 -m adv_transformer.train \\\r\n",
        "    --cs_model_dir=$DB \\\r\n",
        "    --cs_adv_train=False \\\r\n",
        "    --cs_gpu=0 \\\r\n",
        "    --cs_train_steps=30 \\\r\n",
        "    --cs_tfm_type=distilbert-base-uncased"
      ],
      "execution_count": null,
      "outputs": []
    },
    {
      "cell_type": "markdown",
      "metadata": {
        "id": "baxj_zOfWZ66"
      },
      "source": [
        "Demonstration of the standard DistilBERT claimspotting model "
      ]
    },
    {
      "cell_type": "code",
      "metadata": {
        "id": "7prejNw3WZzc"
      },
      "source": [
        "!python3 -m adv_transformer.demo \\\r\n",
        "    --cs_model_dir=$DB \\\r\n",
        "    --cs_gpu=0 "
      ],
      "execution_count": null,
      "outputs": []
    },
    {
      "cell_type": "markdown",
      "metadata": {
        "id": "CJxr69nq00Mx"
      },
      "source": [
        "### Adversarial DistilBERT training"
      ]
    },
    {
      "cell_type": "code",
      "metadata": {
        "id": "IJVwn81g0zbf"
      },
      "source": [
        "!python3 -m adv_transformer.train \\\r\n",
        "    --cs_model_dir=$DBA \\\r\n",
        "    --cs_adv_train=True \\\r\n",
        "    --cs_gpu=0 \\\r\n",
        "    --cs_train_steps=35 \\\r\n",
        "    --cs_lambda=0.25 \\\r\n",
        "    --cs_tfm_type=distilbert-base-uncased"
      ],
      "execution_count": null,
      "outputs": []
    },
    {
      "cell_type": "markdown",
      "metadata": {
        "id": "7McP9TDQWfq8"
      },
      "source": [
        "Demonstration of the adversarially-trained DistilBERT claimspotting model "
      ]
    },
    {
      "cell_type": "code",
      "metadata": {
        "id": "8f-Sa_M7WggY"
      },
      "source": [
        "!python3 -m adv_transformer.demo \\\r\n",
        "    --cs_model_dir=$DBA \\\r\n",
        "    --cs_gpu=0 "
      ],
      "execution_count": null,
      "outputs": []
    },
    {
      "cell_type": "markdown",
      "metadata": {
        "id": "GeVaGsS3y6qK"
      },
      "source": [
        "# RoBERTa models"
      ]
    },
    {
      "cell_type": "markdown",
      "metadata": {
        "id": "-UVpmdbMzeCd"
      },
      "source": [
        "### Standard RoBERTa model training"
      ]
    },
    {
      "cell_type": "code",
      "metadata": {
        "id": "bOhHs93PzHBC"
      },
      "source": [
        "!python3 -m adv_transformer.train \\\r\n",
        "    --cs_model_dir=$RB \\\r\n",
        "    --cs_adv_train=False \\\r\n",
        "    --cs_gpu=0 \\\r\n",
        "    --cs_train_steps=30 \\\r\n",
        "    --cs_tfm_type=roberta-base"
      ],
      "execution_count": null,
      "outputs": []
    },
    {
      "cell_type": "markdown",
      "metadata": {
        "id": "_0r30YxJWoLo"
      },
      "source": [
        "Demonstration of the standard RoBERTa claimspotting model "
      ]
    },
    {
      "cell_type": "code",
      "metadata": {
        "id": "SZ8oyUhTWoSL"
      },
      "source": [
        "!python3 -m adv_transformer.demo \\\r\n",
        "    --cs_model_dir=$RB \\\r\n",
        "    --cs_gpu=0 "
      ],
      "execution_count": null,
      "outputs": []
    },
    {
      "cell_type": "markdown",
      "metadata": {
        "id": "2bxH-Sb6zjUB"
      },
      "source": [
        "### Adversarial RoBERTa model training"
      ]
    },
    {
      "cell_type": "code",
      "metadata": {
        "id": "0kdAqq7SzmHl"
      },
      "source": [
        "!python3 -m adv_transformer.train \\\r\n",
        "    --cs_model_dir=$RBA \\\r\n",
        "    --cs_adv_train=True \\\r\n",
        "    --cs_gpu=0 \\\r\n",
        "    --cs_train_steps=35 \\\r\n",
        "    --cs_lambda=0.25 \\\r\n",
        "    --cs_tfm_type=roberta-base"
      ],
      "execution_count": null,
      "outputs": []
    },
    {
      "cell_type": "markdown",
      "metadata": {
        "id": "A4YXoZAzWpFD"
      },
      "source": [
        "Demonstration of the adversarially-trained RoBERTa claimspotting model "
      ]
    },
    {
      "cell_type": "code",
      "metadata": {
        "id": "OmMvXtQGWo-E"
      },
      "source": [
        "!python3 -m adv_transformer.demo \\\r\n",
        "    --cs_model_dir=$RBA \\\r\n",
        "    --cs_gpu=0 "
      ],
      "execution_count": null,
      "outputs": []
    }
  ]
}