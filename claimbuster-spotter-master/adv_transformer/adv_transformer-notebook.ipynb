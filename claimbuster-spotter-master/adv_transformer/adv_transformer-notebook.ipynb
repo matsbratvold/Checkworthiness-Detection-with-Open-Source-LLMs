{
 "cells": [
  {
   "cell_type": "markdown",
   "metadata": {
    "id": "iIsVQyq8hb_c"
   },
   "source": [
    "# Information"
   ]
  },
  {
   "cell_type": "markdown",
   "metadata": {
    "id": "VYZlrsxTW3_T"
   },
   "source": [
    "Links to Google Colab containing other claim spotting models can be found below:\n",
    "\n",
    "\n",
    "*   [BiLSTM](https://colab.research.google.com/github/idirlab/claimspotter/blob/master/bidirectional_lstm/bilstm-notebook.ipynb)\n",
    "*   [SVM](https://colab.research.google.com/github/idirlab/claimspotter/blob/master/svm/svm-notebook.ipynb)\n",
    "\n"
   ]
  },
  {
   "cell_type": "markdown",
   "metadata": {
    "id": "CZZ8f3i3hfYI"
   },
   "source": [
    "    Copyright (C) 2020 IDIR Lab - UT Arlington\n",
    "\n",
    "    This program is free software: you can redistribute it and/or modify\n",
    "    it under the terms of the GNU General Public License v3 as published by\n",
    "    the Free Software Foundation.\n",
    "\n",
    "    This program is distributed in the hope that it will be useful,\n",
    "    but WITHOUT ANY WARRANTY; without even the implied warranty of\n",
    "    MERCHANTABILITY or FITNESS FOR A PARTICULAR PURPOSE. See the\n",
    "    GNU General Public License for more details.\n",
    "\n",
    "    You should have received a copy of the GNU General Public License\n",
    "    along with this program.  If not, see <https://www.gnu.org/licenses/>.\n",
    "\n",
    "    Contact Information:\n",
    "    See: https://idir.uta.edu/cli.html\n",
    "\n",
    "    Chengkai Li\n",
    "    Box 19015\n",
    "    Arlington, TX 76019\n"
   ]
  },
  {
   "cell_type": "markdown",
   "metadata": {
    "id": "ERl7MzA-yumh"
   },
   "source": [
    "# Import Requirements"
   ]
  },
  {
   "cell_type": "code",
   "execution_count": null,
   "metadata": {
    "id": "Z0O8wRXsLe_8"
   },
   "outputs": [],
   "source": [
    "!git clone --branch develop_new_models https://github.com/idirlab/claimspotter.git\n",
    "!pip3 install transformers==3.5.1\n",
    "!pip3 install emoji\n",
    "\n",
    "%cd claimspotter"
   ]
  },
  {
   "cell_type": "markdown",
   "metadata": {
    "id": "pWYfq1zZfyc5"
   },
   "source": [
    "## Model output folders"
   ]
  },
  {
   "cell_type": "code",
   "execution_count": null,
   "metadata": {
    "id": "ilPe1se5gaiO"
   },
   "outputs": [],
   "source": [
    "import os\n",
    "if \"adv_transformer\" in os.getcwd():\n",
    "    os.chdir(\"..\")\n",
    "\n",
    "import tensorflow as tf\n",
    "\n",
    "os.environ[\"BB\"] = \"./output/bb/\"\n",
    "os.environ[\"BBA\"] = \"./output/bba/\"\n",
    "os.environ[\"DB\"] = \"./output/db/\"\n",
    "os.environ[\"DBA\"] = \"./output/dba/\"\n",
    "os.environ[\"RB\"] = \"./output/rb/\"\n",
    "os.environ[\"RBA\"] = \"./output/rba/\""
   ]
  },
  {
   "cell_type": "markdown",
   "metadata": {
    "id": "Y_PdF4zdy0re"
   },
   "source": [
    "# BERT models"
   ]
  },
  {
   "cell_type": "markdown",
   "metadata": {
    "id": "chgaME0gzUT9"
   },
   "source": [
    "### Standard BERT model training"
   ]
  },
  {
   "cell_type": "markdown",
   "metadata": {
    "id": "V5DpLL03WJ-v"
   },
   "source": [
    "Demonstration of the BERT claimspotting model"
   ]
  },
  {
   "cell_type": "code",
   "execution_count": null,
   "metadata": {},
   "outputs": [],
   "source": [
    "!python3 -m adv_transformer.train \\\n",
    "    --cs_model_dir=$BB \\\n",
    "    --cs_adv_train=False \\\n",
    "    --cs_gpu=0 \\\n",
    "    --cs_train_steps=5 \\\n",
    "    --cs_refresh_data=True \\\n",
    "    # --cs_kfold_data_file='checkthat_dataset.json'"
   ]
  },
  {
   "cell_type": "code",
   "execution_count": null,
   "metadata": {
    "id": "73EtHQT9uMCP"
   },
   "outputs": [],
   "source": [
    "!python3 -m adv_transformer.demo \\\n",
    "    --cs_model_dir=$BB \\\n",
    "    --cs_gpu=0 "
   ]
  },
  {
   "cell_type": "markdown",
   "metadata": {
    "id": "6RaCy2vEzbTL"
   },
   "source": [
    "### Adversarial BERT model training"
   ]
  },
  {
   "cell_type": "code",
   "execution_count": null,
   "metadata": {
    "id": "pmBLZuntzTc7"
   },
   "outputs": [],
   "source": [
    "!python3 -m adv_transformer.train \\\n",
    "    --cs_model_dir=$BBA \\\n",
    "    --cs_adv_train=True \\\n",
    "    --cs_gpu=0 \\\n",
    "    --cs_train_steps=10 \\\n",
    "    --cs_batch_size_adv=12 \\\n",
    "    --cs_lambda=0.1 \\\n",
    "    --cs_refresh_data=True \\\n",
    "    # --cs_kfold_data_file='checkthat_dataset.json'"
   ]
  },
  {
   "cell_type": "markdown",
   "metadata": {
    "id": "kGtvBK2PWU4c"
   },
   "source": [
    "Demonstration of the adversarially-trained BERT claimspotting model "
   ]
  },
  {
   "cell_type": "code",
   "execution_count": null,
   "metadata": {
    "id": "RM11sKu8WT-9"
   },
   "outputs": [],
   "source": [
    "!python3 -m adv_transformer.demo \\\n",
    "    --cs_model_dir=$BBA \\\n",
    "    --cs_gpu=0 "
   ]
  },
  {
   "cell_type": "markdown",
   "metadata": {
    "id": "wQu21DUwzBpG"
   },
   "source": [
    "# DistilBERT models"
   ]
  },
  {
   "cell_type": "markdown",
   "metadata": {
    "id": "tWwK8fqz0z8B"
   },
   "source": [
    "### Standard DistilBERT training"
   ]
  },
  {
   "cell_type": "code",
   "execution_count": null,
   "metadata": {
    "id": "gB0jgLp_0zrL"
   },
   "outputs": [],
   "source": [
    "!python3 -m adv_transformer.train \\\n",
    "    --cs_model_dir=$DB \\\n",
    "    --cs_adv_train=False \\\n",
    "    --cs_gpu=0 \\\n",
    "    --cs_train_steps=30 \\\n",
    "    --cs_tfm_type=distilbert-base-uncased"
   ]
  },
  {
   "cell_type": "markdown",
   "metadata": {
    "id": "baxj_zOfWZ66"
   },
   "source": [
    "Demonstration of the standard DistilBERT claimspotting model "
   ]
  },
  {
   "cell_type": "code",
   "execution_count": null,
   "metadata": {
    "id": "7prejNw3WZzc"
   },
   "outputs": [],
   "source": [
    "!python3 -m adv_transformer.demo \\\n",
    "    --cs_model_dir=$DB \\\n",
    "    --cs_gpu=0 "
   ]
  },
  {
   "cell_type": "markdown",
   "metadata": {
    "id": "CJxr69nq00Mx"
   },
   "source": [
    "### Adversarial DistilBERT training"
   ]
  },
  {
   "cell_type": "code",
   "execution_count": null,
   "metadata": {
    "id": "IJVwn81g0zbf"
   },
   "outputs": [],
   "source": [
    "!python3 -m adv_transformer.train \\\n",
    "    --cs_model_dir=$DBA \\\n",
    "    --cs_adv_train=True \\\n",
    "    --cs_gpu=0 \\\n",
    "    --cs_train_steps=35 \\\n",
    "    --cs_lambda=0.25 \\\n",
    "    --cs_tfm_type=distilbert-base-uncased"
   ]
  },
  {
   "cell_type": "markdown",
   "metadata": {
    "id": "7McP9TDQWfq8"
   },
   "source": [
    "Demonstration of the adversarially-trained DistilBERT claimspotting model "
   ]
  },
  {
   "cell_type": "code",
   "execution_count": null,
   "metadata": {
    "id": "8f-Sa_M7WggY"
   },
   "outputs": [],
   "source": [
    "!python3 -m adv_transformer.demo \\\n",
    "    --cs_model_dir=$DBA \\\n",
    "    --cs_gpu=0 "
   ]
  },
  {
   "cell_type": "markdown",
   "metadata": {
    "id": "GeVaGsS3y6qK"
   },
   "source": [
    "# RoBERTa models"
   ]
  },
  {
   "cell_type": "markdown",
   "metadata": {
    "id": "-UVpmdbMzeCd"
   },
   "source": [
    "### Standard RoBERTa model training"
   ]
  },
  {
   "cell_type": "code",
   "execution_count": null,
   "metadata": {
    "id": "bOhHs93PzHBC"
   },
   "outputs": [],
   "source": [
    "!python3 -m adv_transformer.train \\\n",
    "    --cs_model_dir=$RB \\\n",
    "    --cs_adv_train=False \\\n",
    "    --cs_gpu=0 \\\n",
    "    --cs_train_steps=30 \\\n",
    "    --cs_tfm_type=roberta-base"
   ]
  },
  {
   "cell_type": "markdown",
   "metadata": {
    "id": "_0r30YxJWoLo"
   },
   "source": [
    "Demonstration of the standard RoBERTa claimspotting model "
   ]
  },
  {
   "cell_type": "code",
   "execution_count": null,
   "metadata": {
    "id": "SZ8oyUhTWoSL"
   },
   "outputs": [],
   "source": [
    "!python3 -m adv_transformer.demo \\\n",
    "    --cs_model_dir=$RB \\\n",
    "    --cs_gpu=0 "
   ]
  },
  {
   "cell_type": "markdown",
   "metadata": {
    "id": "2bxH-Sb6zjUB"
   },
   "source": [
    "### Adversarial RoBERTa model training"
   ]
  },
  {
   "cell_type": "code",
   "execution_count": null,
   "metadata": {
    "id": "0kdAqq7SzmHl"
   },
   "outputs": [],
   "source": [
    "!python3 -m adv_transformer.train \\\n",
    "    --cs_model_dir=$RBA \\\n",
    "    --cs_adv_train=True \\\n",
    "    --cs_gpu=0 \\\n",
    "    --cs_train_steps=35 \\\n",
    "    --cs_lambda=0.25 \\\n",
    "    --cs_tfm_type=roberta-base"
   ]
  },
  {
   "cell_type": "markdown",
   "metadata": {
    "id": "A4YXoZAzWpFD"
   },
   "source": [
    "Demonstration of the adversarially-trained RoBERTa claimspotting model "
   ]
  },
  {
   "cell_type": "code",
   "execution_count": null,
   "metadata": {
    "id": "OmMvXtQGWo-E"
   },
   "outputs": [],
   "source": [
    "!python3 -m adv_transformer.demo \\\n",
    "    --cs_model_dir=$RBA \\\n",
    "    --cs_gpu=0 "
   ]
  },
  {
   "cell_type": "markdown",
   "metadata": {},
   "source": [
    "# Runtime evaluation"
   ]
  },
  {
   "cell_type": "code",
   "execution_count": null,
   "metadata": {},
   "outputs": [],
   "source": [
    "!python3 -m adv_transformer.runtime"
   ]
  },
  {
   "cell_type": "markdown",
   "metadata": {},
   "source": []
  },
  {
   "cell_type": "code",
   "execution_count": null,
   "metadata": {},
   "outputs": [],
   "source": []
  }
 ],
 "metadata": {
  "accelerator": "GPU",
  "colab": {
   "collapsed_sections": [],
   "name": "ClaimBuster_Adversarial_Transformers.ipynb",
   "provenance": []
  },
  "kernelspec": {
   "display_name": "Python 3 (ipykernel)",
   "language": "python",
   "name": "python3"
  },
  "language_info": {
   "codemirror_mode": {
    "name": "ipython",
    "version": 3
   },
   "file_extension": ".py",
   "mimetype": "text/x-python",
   "name": "python",
   "nbconvert_exporter": "python",
   "pygments_lexer": "ipython3",
   "version": "3.6.13"
  }
 },
 "nbformat": 4,
 "nbformat_minor": 4
}
