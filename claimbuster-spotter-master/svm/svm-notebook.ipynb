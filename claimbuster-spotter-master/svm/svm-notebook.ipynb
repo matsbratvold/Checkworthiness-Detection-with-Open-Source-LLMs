{
 "cells": [
  {
   "cell_type": "markdown",
   "metadata": {
    "id": "BeBT8QjX9iT9"
   },
   "source": [
    "# Imports"
   ]
  },
  {
   "cell_type": "markdown",
   "metadata": {
    "id": "gqe0sBOmX4Ap"
   },
   "source": [
    "Links to Google Colab containing other claim spotting models can be found below:\n",
    "\n",
    "\n",
    "*   [Transformer/BERT-based](https://colab.research.google.com/github/idirlab/claimspotter/blob/master/adv_transformer/adv_transformer-notebook.ipynb)\n",
    "*   [BiLSTM](https://colab.research.google.com/github/idirlab/claimspotter/blob/master/bidirectional_lstm/bilstm-notebook.ipynb)"
   ]
  },
  {
   "cell_type": "markdown",
   "metadata": {
    "id": "XsTE4bSmUDa0"
   },
   "source": [
    "Load imports and define which parts of speech we will use as features in the model."
   ]
  },
  {
   "cell_type": "code",
   "execution_count": 1,
   "metadata": {
    "colab": {
     "base_uri": "https://localhost:8080/"
    },
    "id": "B1XYtFmSUCjm",
    "outputId": "a5f6356b-b0d1-44a8-84b3-6fbf115b4b6e"
   },
   "outputs": [
    {
     "name": "stderr",
     "output_type": "stream",
     "text": [
      "[nltk_data] Downloading package punkt to\n",
      "[nltk_data]     /cluster/home/matssbra/nltk_data...\n",
      "[nltk_data]   Package punkt is already up-to-date!\n",
      "[nltk_data] Downloading package averaged_perceptron_tagger to\n",
      "[nltk_data]     /cluster/home/matssbra/nltk_data...\n",
      "[nltk_data]   Package averaged_perceptron_tagger is already up-to-\n",
      "[nltk_data]       date!\n"
     ]
    },
    {
     "data": {
      "text/plain": [
       "True"
      ]
     },
     "execution_count": 1,
     "metadata": {},
     "output_type": "execute_result"
    }
   ],
   "source": [
    "# Copyright (C) 2020 IDIR Lab - UT Arlington\n",
    "#\n",
    "#     This program is free software: you can redistribute it and/or modify\n",
    "#     it under the terms of the GNU General Public License v3 as published by\n",
    "#     the Free Software Foundation.\n",
    "#\n",
    "#     This program is distributed in the hope that it will be useful,\n",
    "#     but WITHOUT ANY WARRANTY; without even the implied warranty of\n",
    "#     MERCHANTABILITY or FITNESS FOR A PARTICULAR PURPOSE. See the\n",
    "#     GNU General Public License for more details.\n",
    "#\n",
    "#     You should have received a copy of the GNU General Public License\n",
    "#     along with this program.  If not, see <https://www.gnu.org/licenses/>.\n",
    "#\n",
    "# Contact Information:\n",
    "#     See: https://idir.uta.edu/cli.html\n",
    "#\n",
    "#     Chengkai Li\n",
    "#     Box 19015\n",
    "#     Arlington, TX 76019\n",
    "#\n",
    "\n",
    "import csv\n",
    "import json\n",
    "import math\n",
    "import os\n",
    "import pickle\n",
    "import joblib\n",
    "import nltk\n",
    "import numpy as np\n",
    "import pandas as pd\n",
    "import sklearn.metrics as mt\n",
    "import matplotlib.pyplot as plt\n",
    "from shutil import rmtree\n",
    "from copy import deepcopy\n",
    "from itertools import chain\n",
    "from itertools import product\n",
    "from nltk import pos_tag\n",
    "from nltk import word_tokenize\n",
    "from numpy import argmax, interp, random\n",
    "from sklearn.utils._testing import ignore_warnings\n",
    "from sklearn.exceptions import ConvergenceWarning, UndefinedMetricWarning\n",
    "from sklearn.feature_extraction.text import CountVectorizer, TfidfVectorizer\n",
    "from sklearn.model_selection import StratifiedKFold\n",
    "from sklearn.preprocessing import normalize\n",
    "from sklearn.svm import LinearSVC\n",
    "from sklearn.neighbors import KernelDensity\n",
    "from urllib.request import urlretrieve\n",
    "\n",
    "\n",
    "POS = [\n",
    "    'MD', 'VBN', 'PRP$', 'CD', 'NNS', 'RBR', 'LS', 'WP', 'JJR', 'RB', 'WP$', 'VBZ', '-LRB-', 'CC', 'JJ', \n",
    "    '$', ':', 'VBG', \"''\", ',', 'WDT', 'EX', 'PDT', 'RP', '``', 'NNPS', 'NNP', 'FW', 'VB', 'PRP', 'RBS', \n",
    "    'DT', 'WRB', 'NN', '.', '-NONE-', 'IN', 'TO', 'UH', 'VBD', 'POS', 'VBP', 'JJS', 'SYM', '(', ')'\n",
    "]\n",
    "\n",
    "nltk.download('punkt')\n",
    "nltk.download('averaged_perceptron_tagger')"
   ]
  },
  {
   "cell_type": "markdown",
   "metadata": {
    "id": "UDVC7HHG9qx4"
   },
   "source": [
    "# Helper Functions"
   ]
  },
  {
   "cell_type": "markdown",
   "metadata": {
    "id": "C1lEqCV1UNB-"
   },
   "source": [
    "## Metrics Functions\n",
    "Define helper functions to compute metrics."
   ]
  },
  {
   "cell_type": "code",
   "execution_count": 2,
   "metadata": {
    "id": "yKSdaq-nUXPV"
   },
   "outputs": [],
   "source": [
    "def compute_kde(x):\n",
    "    # https://scikit-learn.org/stable/auto_examples/neighbors/plot_kde_1d.html\n",
    "    x = np.asarray(x).reshape(-1, 1)\n",
    "    X_plot = np.linspace(0, 1, len(x))[:, np.newaxis]\n",
    "    fig, ax = plt.subplots()\n",
    "    colors = ['darkorange']\n",
    "    kernels = ['gaussian']\n",
    "    lw = 15\n",
    "\n",
    "    for color, kernel in zip(colors, kernels):\n",
    "        kde = KernelDensity(kernel=kernel, bandwidth=0.10).fit(x)\n",
    "        log_dens = kde.score_samples(X_plot)\n",
    "        ax.plot(X_plot[:, 0], np.exp(log_dens), color=color, lw=lw, linestyle='-')\n",
    "\n",
    "    ax.legend().remove()\n",
    "    ax.plot(x[:, 0], -0.005 - 0.01 * random.random(x.shape[0]), '+k', markersize=lw)\n",
    "\n",
    "    ax.set_xlim(0, 1)\n",
    "    ax.set_ylim(-0.06, 1.75)\n",
    "    plt.show()\n",
    "\n",
    "def compute_precisions(labels, scores, cutoff=None):\n",
    "    # https://github.com/apepa/clef2019-factchecking-task1/blob/master/scorer/task1.py#L81\n",
    "    combined = sorted([(scores[i], labels[i]) for i in range(len(scores))], reverse=True)\n",
    "    cutoff = min(cutoff or math.inf, len(combined))\n",
    "    combined = combined[:cutoff]\n",
    "    precisions = [0.0] * cutoff\n",
    "\n",
    "    for i, x in enumerate(combined):\n",
    "        if x[1] == 1:\n",
    "            precisions[i] += 1.0\n",
    "\n",
    "    for i in range(1, cutoff): # accumulate\n",
    "        precisions[i] += precisions[i - 1]\n",
    "    for i in range(1, cutoff): # normalize\n",
    "        precisions[i] /= i+1\n",
    "\n",
    "    return precisions\n",
    "\n",
    "\n",
    "def compute_average_precision(labels, scores, cutoff=None):\n",
    "    # https://github.com/apepa/clef2019-factchecking-task1/blob/master/scorer/task1.py#L52\n",
    "    combined = sorted([(scores[i], labels[i]) for i in range(len(scores))], reverse=True)\n",
    "    cutoff = min(cutoff or math.inf, len(combined))\n",
    "    combined = combined[:cutoff]\n",
    "    labels = [x[1] for x in combined]\n",
    "    precisions = []\n",
    "    num_correct = 0\n",
    "    num_positive = sum(labels)\n",
    "\n",
    "    for i, x in enumerate(combined):\n",
    "        if x[1] == 1:\n",
    "            num_correct += 1\n",
    "            precisions.append(num_correct / (i + 1))\n",
    "    \n",
    "    if precisions:\n",
    "        avg_prec = sum(precisions) / num_positive\n",
    "    else:\n",
    "        avg_prec = 0.0\n",
    "\n",
    "    return avg_prec\n",
    "\n",
    "def compute_dcg_term(i, labels, ver=1):\n",
    "    # Difference between version 0 and 1: https://en.wikipedia.org/wiki/Discounted_cumulative_gain#Discounted_Cumulative_Gain\n",
    "    return labels[i - 1] / math.log2(i + 1) if ver == 0 else ((1 << labels[i - 1]) - 1) / math.log2(i + 1)\n",
    "\n",
    "\n",
    "def compute_ndcg(labels, scores, cutoff=None):\n",
    "    # Precondition: for each index i, scores[i] corresponds with labels[i]\n",
    "    ver = 0\n",
    "    combined = sorted([(scores[i], labels[i]) for i in range(len(scores))], reverse=True)\n",
    "    cutoff = min(cutoff or math.inf, len(combined))\n",
    "    combined = combined[:cutoff]\n",
    "    labels = [x[1] for x in combined]\n",
    "\n",
    "    dcg = sum([compute_dcg_term(i, labels, ver=ver) for i in range(1, len(labels) + 1, 1)])\n",
    "    ideal_labels = sorted(labels, reverse=True)\n",
    "    idcg = sum([compute_dcg_term(i, ideal_labels, ver=ver) for i in range(1, len(labels) + 1, 1)])\n",
    "\n",
    "    try:\n",
    "        return dcg / idcg\n",
    "    except ZeroDivisionError:\n",
    "        return dcg / 0.0000000000001"
   ]
  },
  {
   "cell_type": "markdown",
   "metadata": {
    "id": "D0yTGSjiUyma"
   },
   "source": [
    "## Feature Vector Functions\n",
    "Helper functions to generate different parts of feature vector."
   ]
  },
  {
   "cell_type": "code",
   "execution_count": 3,
   "metadata": {
    "id": "NkpG9VuiU2yI"
   },
   "outputs": [],
   "source": [
    "def get_ngram(file_name, tf_idf_vect, data, n, store_vocab=False, set_index=None):\n",
    "    sentence_term_tfidf = tf_idf_vect.transform(data.text)\n",
    "    sentence_term_df = pd.DataFrame(sentence_term_tfidf.todense(), columns=np.sort(list(tf_idf_vect.vocabulary_.keys())))\n",
    "\n",
    "    if set_index is not None:\n",
    "        sentence_term_df = sentence_term_df.set_index(set_index)\n",
    "\n",
    "    if store_vocab:\n",
    "        pd.DataFrame(sentence_term_df.columns).to_csv(\"models/vocabulary_\" + file_name + \".txt\", encoding='utf-8', index=False)\n",
    "\n",
    "    sentence_term_df.columns = sentence_term_df.columns.map(lambda x: 'W_' + str(n) + '_' + x)\n",
    "\n",
    "    return sentence_term_df\n",
    "\n",
    "\n",
    "def get_pos(data, n):\n",
    "    POSn = {x: 0 for x in product(POS, repeat=n)}\n",
    "    data_pos = pd.DataFrame(columns=POSn.keys())\n",
    "    data_pos.columns = data_pos.columns.map(lambda x: 'P_' + str(n) + '_' + '_'.join(x))\n",
    "\n",
    "    for idx, r in data.iterrows():\n",
    "        POSn = {x: 0 for x in product(POS, repeat=n)}\n",
    "        token_pos = pos_tag(word_tokenize(r.text))\n",
    "        token_pos = [y for (x, y) in token_pos]\n",
    "        token_pos = zip(*[token_pos[i:] for i in range(n)])\n",
    "\n",
    "        for tp in token_pos:\n",
    "            POSn[tp] += 1\n",
    "\n",
    "        data_pos.loc[idx] = list(POSn.values())\n",
    "    return data_pos"
   ]
  },
  {
   "cell_type": "markdown",
   "metadata": {
    "id": "GJGJZRWvU5Lk"
   },
   "source": [
    "## Training and Cross Validation Functions\n",
    "Functions to train the final model and perform k-fold cross validation on the dataset."
   ]
  },
  {
   "cell_type": "code",
   "execution_count": 4,
   "metadata": {
    "id": "UDbBtPR1U_Bj"
   },
   "outputs": [],
   "source": [
    "def train_models(file_name, data, clfs, features, labels):\n",
    "    models = []\n",
    "\n",
    "    for feature_regex, feature_types in features:\n",
    "        for clf, name in clfs:\n",
    "            # Prepare training data with appropriate feature set\n",
    "            train_filter_regex = data.filter(regex=feature_regex)\n",
    "            train_filter_regex = train_filter_regex.sort_index(axis=1)\n",
    "\n",
    "            # Train and save the model for later use\n",
    "            clf.fit(train_filter_regex, data[labels])\n",
    "            j = joblib.dump(clf, 'models/' + name + '_' + feature_types + '_' + file_name + '.pkl')\n",
    "\n",
    "            models += [(name, (feature_regex, feature_types), clf)]\n",
    "\n",
    "            print(\"[\" + file_name + \"] \" + \"Training \" + name + '_' + feature_types + \" complete.\\n\")\n",
    "    return models\n",
    "\n",
    "\n",
    "@ignore_warnings(category=UndefinedMetricWarning)\n",
    "@ignore_warnings(category=ConvergenceWarning)\n",
    "def evaluate(file_name, data, clfs, features, labels, num_folds, num_classes=2):\n",
    "    print(\"K-folds total samples: \", len(data))\n",
    "    kf = StratifiedKFold(n_splits=num_folds, shuffle=True, random_state=2)\n",
    "    fold_count = 1\n",
    "\n",
    "    # ROC plot reference: https://scikit-learn.org/stable/auto_examples/model_selection/plot_roc_crossval.html#sphx-glr-auto-examples-model-selection-plot-roc-crossval-py\n",
    "    for feature_regex, _feature_types in features:\n",
    "        for clf, clf_name in clfs:\n",
    "            cm = np.zeros((num_classes, num_classes)) \n",
    "            avg_ndcg = 0\n",
    "            avg_balanced_accuracy = 0\n",
    "            avg_ap = 0\n",
    "            aggregated_labels = []\n",
    "            aggregated_predictions = []\n",
    "            tprs = []\n",
    "            aucs = []\n",
    "            mean_fpr = np.linspace(0, 1, 100)\n",
    "            fig, ax = plt.subplots()\n",
    "\n",
    "            for train_index, test_index in kf.split(data, data[labels]):\n",
    "                # Mask data for the given fold\n",
    "                train = data.iloc[train_index]\n",
    "                test = data.iloc[test_index]\n",
    "\n",
    "                # Learn vocabulary and idf for the training data\n",
    "                fold_tf_idf_vect = TfidfVectorizer(min_df=1, ngram_range=(n_gram, n_gram))\n",
    "                fold_tf_idf_vect.fit(train.text)\n",
    "\n",
    "                # Vectorize training data\n",
    "                train = pd.concat([train, get_ngram(file_name, fold_tf_idf_vect, train, 1, set_index=train_index)], axis=1)\n",
    "                train = pd.concat([train, get_pos(train, 1)], axis=1)\n",
    "\n",
    "                # Vectorize testing data\n",
    "                test = pd.concat([test, get_ngram(file_name, fold_tf_idf_vect, test, 1, set_index=test_index)], axis=1)\n",
    "                test = pd.concat([test, get_pos(test, 1)], axis=1)\n",
    "\n",
    "                print(\"Fold: {0}, Training Samples: {1}, Testing Samples: {2}\".format(fold_count, len(train), len(test)))\n",
    "\n",
    "                # Train the model for this fold\n",
    "                train_filter_regex = train.filter(regex=feature_regex)\n",
    "                train_filter_regex = train_filter_regex.sort_index(axis=1)\n",
    "                clf.fit(train_filter_regex, train[labels])\n",
    "\n",
    "                # Evaluate the model for this fold\n",
    "                test_filter_regex = test.filter(regex=feature_regex)\n",
    "                test_filter_regex = test_filter_regex.sort_index(axis=1)\n",
    "                predictions = clf.predict(test_filter_regex)\n",
    "\n",
    "                fold_labels_list = test[labels].tolist()\n",
    "\n",
    "                # Aggreate some ROC metrics\n",
    "                viz = mt.RocCurveDisplay.from_estimator(clf, test_filter_regex, test[labels], name='ROC fold {}'.format(fold_count), alpha=0.3, lw=1, ax=ax)\n",
    "                interp_tpr = interp(mean_fpr, viz.fpr, viz.tpr)\n",
    "                interp_tpr[0] = 0.0\n",
    "                tprs.append(interp_tpr)\n",
    "                aucs.append(viz.roc_auc)\n",
    "\n",
    "                # Aggregate fold results to generate an aggregated report at the end\n",
    "                aggregated_labels += fold_labels_list\n",
    "                aggregated_predictions += predictions.tolist()\n",
    "\n",
    "                cfs_scores = [x[1] for x in clf._predict_proba_lr(test_filter_regex).tolist()]\n",
    "\n",
    "                ndcg = compute_ndcg(fold_labels_list, cfs_scores)\n",
    "                avg_ndcg += ndcg\n",
    "\n",
    "                balanced_accuracy = mt.balanced_accuracy_score(test[labels], predictions)\n",
    "                avg_balanced_accuracy += balanced_accuracy\n",
    "\n",
    "                average_precision = compute_average_precision(fold_labels_list, cfs_scores)\n",
    "                avg_ap += average_precision\n",
    "\n",
    "                print('########## Classification Report ##########')\n",
    "                print(mt.classification_report(test[labels], predictions, digits=4))\n",
    "                \n",
    "                print('############ Confusion Matrix #############')\n",
    "                print(mt.confusion_matrix(test[labels], predictions), \"\\n\")\n",
    "\n",
    "                print(\"nDCG Score: \", ndcg)\n",
    "                print(\"Average Precision: \", average_precision)\n",
    "                print(\"Balanced Accuracy: \", balanced_accuracy, \"\\n\")\n",
    "                print(\"# --------------------------------------------------------- #\\n\")\n",
    "\n",
    "                cm += mt.confusion_matrix(test[labels], predictions)\n",
    "                fold_count += 1\n",
    "\n",
    "            print('# Aggregated K-Fold Classification Report #')\n",
    "            print(mt.classification_report(aggregated_labels, aggregated_predictions, digits=4))\n",
    "\n",
    "            print('### Aggregated K-Fold Confusion Matrix ####')\n",
    "            print(cm, \"\\n\")\n",
    "\n",
    "            print(\"Average nDCG: \", avg_ndcg / num_folds)\n",
    "            print(\"Mean Average Precision: \", avg_ap / num_folds)\n",
    "            print(\"Average Balanced Accuracy: \", avg_balanced_accuracy / num_folds, \"\\n\")\n",
    "            print(\"# --------------------------------------------------------- #\\n\")\n",
    "\n",
    "            mean_tpr = np.mean(tprs, axis=0)\n",
    "            mean_tpr[-1] = 1.0\n",
    "            mean_auc = mt.auc(mean_fpr, mean_tpr)\n",
    "            std_auc = np.std(aucs)\n",
    "            ax.plot(mean_fpr, mean_tpr, color='b', label=r'Mean ROC (AUC = %0.2f $\\pm$ %0.2f)' % (mean_auc, std_auc), lw=2, alpha=.8)\n",
    "\n",
    "            std_tpr = np.std(tprs, axis=0)\n",
    "            tprs_upper = np.minimum(mean_tpr + std_tpr, 1)\n",
    "            tprs_lower = np.maximum(mean_tpr - std_tpr, 0)\n",
    "            ax.fill_between(mean_fpr, tprs_lower, tprs_upper, color='grey', alpha=.2, label=r'$\\pm$ 1 std. dev.')\n",
    "\n",
    "            ax.set(xlim=[-0.05, 1.05], ylim=[-0.05, 1.05], title=\"[{0}] {1} ROC\".format(file_name, clf_name))\n",
    "            ax.legend(loc=\"lower right\")\n",
    "            plt.show()"
   ]
  },
  {
   "cell_type": "markdown",
   "metadata": {
    "id": "YOxiyDpXVDlR"
   },
   "source": [
    "## Load Trained Model Function\n",
    "Define function to load the trained model and score sentences using it."
   ]
  },
  {
   "cell_type": "code",
   "execution_count": 5,
   "metadata": {
    "id": "4xorAfF2-xC0"
   },
   "outputs": [],
   "source": [
    "def getCFSScore(file_name=None, transcript=\"\", models=[(\"SVM\", (\"length|W_|P_\", \"W_P\"), None)]):\n",
    "    def get_pos_vector(text):\n",
    "        dict_pos_count = {k: 0 for k in POS}\n",
    "        pos_tags = pos_tag(word_tokenize(text))  # TextBlob(text).pos_tags#\n",
    "\n",
    "        for _, tag in pos_tags:\n",
    "            if tag in dict_pos_count.keys():\n",
    "                dict_pos_count[tag] += 1\n",
    "\n",
    "        return dict_pos_count\n",
    "\n",
    "    # Load in the vocabulary and pre-calculated idf\n",
    "    vocabulary = pd.read_csv(os.path.join('models', 'vocabulary_{0}.txt'.format(file_name)))\n",
    "    count_vect = CountVectorizer(vocabulary=vocabulary['0'])\n",
    "    idf_ = pickle.load(open(os.path.join('models', 'idf_{0}'.format(file_name)), 'rb'))\n",
    "\n",
    "    # Convert sentence to dataframe and back up original text before vectorization\n",
    "    sentences = [transcript]\n",
    "    sentences = pd.DataFrame(sentences)\n",
    "    sentences.columns = ['text']\n",
    "    sentences['original_text'] = sentences.text\n",
    "    sentences.text = sentences['original_text'].map(lambda s: s.lower())\n",
    "    sentences['sentence_id'] = sentences.index\n",
    "\n",
    "    # Vectorize the sentence\n",
    "    sentence_word = count_vect.fit_transform(sentences.text)\n",
    "    sentence_word = sentence_word.toarray() * idf_\n",
    "    sentence_word = normalize(sentence_word, axis=1, norm='l2')\n",
    "    sentence_word = pd.DataFrame(sentence_word, columns=vocabulary['0'])\n",
    "    sentence_word = pd.concat([sentences.sentence_id, sentence_word], axis=1)\n",
    "    sentence_word = sentence_word.set_index('sentence_id')\n",
    "    sentence_word.columns = sentence_word.columns.map(lambda x: 'W_1_' + str(x))\n",
    "\n",
    "    # Get the part of speech vector for the sentence\n",
    "    sentence_pos = {sentences.sentence_id[i]: get_pos_vector(sentences.text[i]) for i in sentences.index}\n",
    "    sentence_pos = pd.DataFrame(sentence_pos).T\n",
    "    sentence_pos.columns = sentence_pos.columns.map(lambda x: 'P_1_' + str(x))\n",
    "    sentence_pos.index.names = ['sentence_id']\n",
    "\n",
    "    # Append sentence length info as a feature\n",
    "    sentence_pos['length'] = [len(sentences.loc[id].text.split()) for id in sentences.index]\n",
    "\n",
    "    # Concatenate all the features into one dataframe\n",
    "    data = pd.concat([sentence_pos, sentence_word], axis=1)\n",
    "\n",
    "    # Load in the models and return class prediction probabilities for the input sentence\n",
    "    for name, (feature_regex, feature_types), clf in models:\n",
    "        clf = joblib.load('models/' + name + '_' + feature_types + '_' + file_name + '.pkl')\n",
    "        model_name = clf.__class__.__name__\n",
    "        data_regex = data.filter(regex=feature_regex)\n",
    "        data_regex = data_regex.sort_index(axis=1)\n",
    "\n",
    "        if str(model_name) == 'LinearSVC':\n",
    "            return clf._predict_proba_lr(data_regex)[0]\n",
    "        else:\n",
    "            return clf.predict_proba(data_regex)[0]\n"
   ]
  },
  {
   "cell_type": "markdown",
   "metadata": {
    "id": "v7GQUeMt9u-F"
   },
   "source": [
    "# Get Data and Set Training Options"
   ]
  },
  {
   "cell_type": "markdown",
   "metadata": {
    "id": "1nL1w54JVIz0"
   },
   "source": [
    "Download the necessary data."
   ]
  },
  {
   "cell_type": "code",
   "execution_count": 29,
   "metadata": {
    "colab": {
     "base_uri": "https://localhost:8080/"
    },
    "id": "0NxMeZf33p42",
    "outputId": "fe562a91-35a5-42a3-96a7-0b58cf2324a9"
   },
   "outputs": [
    {
     "data": {
      "text/plain": [
       "('clef_test.tsv', <http.client.HTTPMessage at 0x1c0d1b674d0>)"
      ]
     },
     "execution_count": 29,
     "metadata": {},
     "output_type": "execute_result"
    }
   ],
   "source": [
    "urlretrieve(\"https://github.com/idirlab/claimspotter/raw/master/data/two_class/kfold_25ncs.json\", \"claimbuster_dataset.json\")\n",
    "urlretrieve(\"https://github.com/idirlab/claimspotter/raw/master/data/clef19/CT19-T1-Training.csv\", \"clef_dataset.tsv\")\n",
    "urlretrieve(\"https://github.com/idirlab/claimspotter/raw/master/data/clef19/CT19-T1-Test.csv\", \"clef_test.tsv\")"
   ]
  },
  {
   "cell_type": "markdown",
   "metadata": {
    "id": "j7gEgcWnVMiu"
   },
   "source": [
    "The main code to train, perform k-fold cross validation, and post-training evaluation.\n",
    "\n",
    "There are 4 pre-defined training options defined in the `training_options` dictionary:\n",
    "\n",
    "1.   `train_claimbuster_no_test`: Train the model on the ClaimBuster dataset and only do k-fold cross validation. No post training evaluation on a separate test set is performed.\n",
    "2.   `train_claimbuster_test_clef`: Train the model on the ClaimBuster dataset, do k-fold cross validation, and perform post training evaluation on the CLEF-2019 test dataset.\n",
    "3.   `train_clef_no_test`: Train the model on the CLEF-2019 dataset and only do k-fold cross validation. No post training evaluation on a separate test set is performed.\n",
    "4.   `train_clef_test_clef`: Train the model on the CLEF-2019 dataset, do k-fold cross validation, and perform post training evaluation on the CLEF-2019 test dataset.\n"
   ]
  },
  {
   "cell_type": "code",
   "execution_count": 6,
   "metadata": {
    "id": "zd2wtvJ0Ws3s"
   },
   "outputs": [],
   "source": [
    "training_options = {\n",
    "    \"train_claimbuster_no_test\": (100000000, 1000, \"claimbuster_dataset\", \"json\", \"\", \"\\t\", \"utf-8\", \"utf-8\", True, False, 1, 4, True),\n",
    "    \"train_claimbuster_test_clef\": (100000000, 1000, \"claimbuster_dataset\", \"json\", \"./clef_test.tsv\", \"\\t\", \"utf-8\", \"utf-8\", True, True, 1, 4, True),\n",
    "    \"train_clef_no_test\": (100000000, 1000, \"clef_dataset\", \"tsv\", \"\", \"\\t\", \"utf-8\", \"utf-8\", True, False, 1, 4, True),\n",
    "    \"train_clef_test_clef\": (100000000, 1000, \"clef_dataset\", \"tsv\", \"./clef_test.tsv\", \"\\t\", \"utf-8\", \"utf-8\", True, True, 1, 4, True)\n",
    "}\n",
    "\n",
    "(max_num_iters, max_num_iters_kfold, train_file_name, train_file_ext, \n",
    "test_file_path, csv_delimiter, train_file_encoding, test_file_encoding, \n",
    "test_file_has_header, test_file_in_multiple_doc_order, n_gram, num_folds, \n",
    "train_new_model) = training_options[\"train_claimbuster_test_clef\"]"
   ]
  },
  {
   "cell_type": "markdown",
   "metadata": {
    "id": "IJbjn2fZ-ApW"
   },
   "source": [
    "# Train Model and Perform K-Fold Cross Validation"
   ]
  },
  {
   "cell_type": "markdown",
   "metadata": {
    "id": "Sgjak6VZWxUE"
   },
   "source": [
    "Train the model using the training option defined above."
   ]
  },
  {
   "cell_type": "code",
   "execution_count": 8,
   "metadata": {
    "id": "5TkKbNaPW4ES"
   },
   "outputs": [
    {
     "name": "stdout",
     "output_type": "stream",
     "text": [
      "train_file_name='claimbuster_dataset'\n"
     ]
    },
    {
     "name": "stderr",
     "output_type": "stream",
     "text": [
      "/cluster/apps/eb/software/Anaconda3/2023.09-0/lib/python3.11/site-packages/sklearn/svm/_classes.py:32: FutureWarning: The default value of `dual` will change from `True` to `'auto'` in 1.5. Set the value of `dual` explicitly to suppress the warning.\n",
      "  warnings.warn(\n"
     ]
    },
    {
     "name": "stdout",
     "output_type": "stream",
     "text": [
      "[claimbuster_dataset] Training SVM_W_P complete.\n",
      "\n",
      "K-folds total samples:  9674\n",
      "Fold: 1, Training Samples: 7255, Testing Samples: 2419\n"
     ]
    },
    {
     "name": "stderr",
     "output_type": "stream",
     "text": [
      "/cluster/apps/eb/software/Anaconda3/2023.09-0/lib/python3.11/site-packages/sklearn/svm/_classes.py:32: FutureWarning: The default value of `dual` will change from `True` to `'auto'` in 1.5. Set the value of `dual` explicitly to suppress the warning.\n",
      "  warnings.warn(\n"
     ]
    },
    {
     "name": "stdout",
     "output_type": "stream",
     "text": [
      "########## Classification Report ##########\n",
      "              precision    recall  f1-score   support\n",
      "\n",
      "           0     0.8676    0.9520    0.9078      1728\n",
      "           1     0.8413    0.6368    0.7249       691\n",
      "\n",
      "    accuracy                         0.8619      2419\n",
      "   macro avg     0.8545    0.7944    0.8164      2419\n",
      "weighted avg     0.8601    0.8619    0.8556      2419\n",
      "\n",
      "############ Confusion Matrix #############\n",
      "[[1645   83]\n",
      " [ 251  440]] \n",
      "\n",
      "nDCG Score:  0.9747416390310696\n",
      "Average Precision:  0.8396377554867505\n",
      "Balanced Accuracy:  0.7943629569330546 \n",
      "\n",
      "# --------------------------------------------------------- #\n",
      "\n",
      "Fold: 2, Training Samples: 7255, Testing Samples: 2419\n"
     ]
    },
    {
     "name": "stderr",
     "output_type": "stream",
     "text": [
      "/cluster/apps/eb/software/Anaconda3/2023.09-0/lib/python3.11/site-packages/sklearn/svm/_classes.py:32: FutureWarning: The default value of `dual` will change from `True` to `'auto'` in 1.5. Set the value of `dual` explicitly to suppress the warning.\n",
      "  warnings.warn(\n"
     ]
    },
    {
     "name": "stdout",
     "output_type": "stream",
     "text": [
      "########## Classification Report ##########\n",
      "              precision    recall  f1-score   support\n",
      "\n",
      "           0     0.8999    0.9311    0.9152      1728\n",
      "           1     0.8114    0.7410    0.7746       691\n",
      "\n",
      "    accuracy                         0.8768      2419\n",
      "   macro avg     0.8556    0.8360    0.8449      2419\n",
      "weighted avg     0.8746    0.8768    0.8751      2419\n",
      "\n",
      "############ Confusion Matrix #############\n",
      "[[1609  119]\n",
      " [ 179  512]] \n",
      "\n",
      "nDCG Score:  0.9788983382437666\n",
      "Average Precision:  0.8628275226109879\n",
      "Balanced Accuracy:  0.8360446983705847 \n",
      "\n",
      "# --------------------------------------------------------- #\n",
      "\n",
      "Fold: 3, Training Samples: 7256, Testing Samples: 2418\n"
     ]
    },
    {
     "name": "stderr",
     "output_type": "stream",
     "text": [
      "/cluster/apps/eb/software/Anaconda3/2023.09-0/lib/python3.11/site-packages/sklearn/svm/_classes.py:32: FutureWarning: The default value of `dual` will change from `True` to `'auto'` in 1.5. Set the value of `dual` explicitly to suppress the warning.\n",
      "  warnings.warn(\n"
     ]
    },
    {
     "name": "stdout",
     "output_type": "stream",
     "text": [
      "########## Classification Report ##########\n",
      "              precision    recall  f1-score   support\n",
      "\n",
      "           0     0.8927    0.9299    0.9109      1727\n",
      "           1     0.8045    0.7207    0.7603       691\n",
      "\n",
      "    accuracy                         0.8701      2418\n",
      "   macro avg     0.8486    0.8253    0.8356      2418\n",
      "weighted avg     0.8675    0.8701    0.8679      2418\n",
      "\n",
      "############ Confusion Matrix #############\n",
      "[[1606  121]\n",
      " [ 193  498]] \n",
      "\n",
      "nDCG Score:  0.9741681238526662\n",
      "Average Precision:  0.8412329420155638\n",
      "Balanced Accuracy:  0.8253154755869367 \n",
      "\n",
      "# --------------------------------------------------------- #\n",
      "\n",
      "Fold: 4, Training Samples: 7256, Testing Samples: 2418\n"
     ]
    },
    {
     "name": "stderr",
     "output_type": "stream",
     "text": [
      "/cluster/apps/eb/software/Anaconda3/2023.09-0/lib/python3.11/site-packages/sklearn/svm/_classes.py:32: FutureWarning: The default value of `dual` will change from `True` to `'auto'` in 1.5. Set the value of `dual` explicitly to suppress the warning.\n",
      "  warnings.warn(\n"
     ]
    },
    {
     "name": "stdout",
     "output_type": "stream",
     "text": [
      "########## Classification Report ##########\n",
      "              precision    recall  f1-score   support\n",
      "\n",
      "           0     0.8877    0.9241    0.9055      1727\n",
      "           1     0.7887    0.7077    0.7460       691\n",
      "\n",
      "    accuracy                         0.8623      2418\n",
      "   macro avg     0.8382    0.8159    0.8258      2418\n",
      "weighted avg     0.8594    0.8623    0.8599      2418\n",
      "\n",
      "############ Confusion Matrix #############\n",
      "[[1596  131]\n",
      " [ 202  489]] \n",
      "\n",
      "nDCG Score:  0.9769475015056398\n",
      "Average Precision:  0.8503733430163174\n",
      "Balanced Accuracy:  0.8159079805959155 \n",
      "\n",
      "# --------------------------------------------------------- #\n",
      "\n",
      "# Aggregated K-Fold Classification Report #\n",
      "              precision    recall  f1-score   support\n",
      "\n",
      "           0     0.8867    0.9343    0.9099      6910\n",
      "           1     0.8103    0.7015    0.7520      2764\n",
      "\n",
      "    accuracy                         0.8678      9674\n",
      "   macro avg     0.8485    0.8179    0.8309      9674\n",
      "weighted avg     0.8649    0.8678    0.8648      9674\n",
      "\n",
      "### Aggregated K-Fold Confusion Matrix ####\n",
      "[[6456.  454.]\n",
      " [ 825. 1939.]] \n",
      "\n",
      "Average nDCG:  0.9761889006582855\n",
      "Mean Average Precision:  0.8485178907824048\n",
      "Average Balanced Accuracy:  0.8179077778716228 \n",
      "\n",
      "# --------------------------------------------------------- #\n",
      "\n"
     ]
    },
    {
     "data": {
      "image/png": "[encoded data removed]",
      "text/plain": [
       "<Figure size 640x480 with 1 Axes>"
      ]
     },
     "metadata": {},
     "output_type": "display_data"
    }
   ],
   "source": [
    "# Reset models dir\n",
    "rmtree(\"./models\", ignore_errors=True)\n",
    "os.makedirs(\"models\", exist_ok=False)\n",
    "print(f\"{train_file_name=}\")\n",
    "if train_new_model:\n",
    "    # Load the data and shuffle it\n",
    "    if train_file_ext in [\"csv\", \"tsv\"]:\n",
    "        data = pd.read_csv(f\"./{train_file_name}.{train_file_ext}\", encoding=train_file_encoding, delimiter=\",\", quotechar='\"')\n",
    "    elif train_file_ext in [\"json\"]:\n",
    "        data = pd.read_json(f\"./{train_file_name}.{train_file_ext}\", encoding=train_file_encoding)\n",
    "    data = data.sample(frac=1).reset_index(drop=True)\n",
    "\n",
    "    # Create a global tf_idf vectorizer with entire vocabulary\n",
    "    final_tf_idf_vect = TfidfVectorizer(min_df=1, ngram_range=(n_gram, n_gram))\n",
    "    final_tf_idf_vect.fit(data.text)\n",
    "    pickle.dump(final_tf_idf_vect.idf_, open(\"models/idf_\" + train_file_name, \"wb\"))\n",
    "\n",
    "    # Add in sentence length info to dataframe\n",
    "    sen_len = pd.DataFrame()\n",
    "    sen_len['length'] = [len(data.loc[id].text.split()) for id in data.index]\n",
    "    data = pd.concat([data, sen_len], axis=1)\n",
    "\n",
    "    # Vectorize final data for training the final model and storing for loading the model post training\n",
    "    final_data = pd.concat([data, get_ngram(train_file_name, final_tf_idf_vect, data, n_gram, True)], axis=1)\n",
    "\n",
    "    # Get PoS feature set for final data\n",
    "    final_data = pd.concat([final_data, get_pos(final_data, 1)], axis=1)\n",
    "\n",
    "    # Store final data in pickle files\n",
    "    j = joblib.dump(final_data, './models/DF_' + train_file_name + '.pkl')\n",
    "    final_data = joblib.load('./models/DF_' + train_file_name + '.pkl')\n",
    "\n",
    "    # Train the classifiers\n",
    "    classifiers = {\n",
    "        \"final_model\": [(LinearSVC(max_iter=max_num_iters), \"SVM\")],\n",
    "        \"k_fold_models\": [(LinearSVC(max_iter=max_num_iters_kfold), \"SVM\")]\n",
    "        }\n",
    "    features = [('length|W_|P_', 'W_P')]\n",
    "    models = train_models(train_file_name, final_data, classifiers[\"final_model\"], features, 'label')\n",
    "\n",
    "    # Evaluate the classifiers\n",
    "    evaluate(train_file_name, data, classifiers[\"k_fold_models\"], features, 'label', num_folds, num_classes=2)"
   ]
  },
  {
   "cell_type": "markdown",
   "metadata": {
    "id": "78EBeuFJ-I0w"
   },
   "source": [
    "# Post Training Evaluation"
   ]
  },
  {
   "cell_type": "markdown",
   "metadata": {
    "id": "f9wt8FAiW8lX"
   },
   "source": [
    "If post-training evaluation was specified, then perform the appropriate evaluations."
   ]
  },
  {
   "cell_type": "code",
   "execution_count": 36,
   "metadata": {
    "colab": {
     "base_uri": "https://localhost:8080/",
     "height": 616
    },
    "id": "sOlVgkrA3uto",
    "outputId": "f5fbf842-c55d-4dd6-b4e6-71b0f89557b1"
   },
   "outputs": [
    {
     "name": "stderr",
     "output_type": "stream",
     "text": [
      "No artists with labels found to put in legend.  Note that artists whose label start with an underscore are ignored when legend() is called with no argument.\n"
     ]
    },
    {
     "name": "stdout",
     "output_type": "stream",
     "text": [
      "###### Test Set Classification Report #####\n",
      "               precision    recall  f1-score   support\n",
      "\n",
      "           0     0.9810    0.9990    0.9899      6944\n",
      "           1     0.2222    0.0147    0.0276       136\n",
      "\n",
      "    accuracy                         0.9801      7080\n",
      "   macro avg     0.6016    0.5068    0.5088      7080\n",
      "weighted avg     0.9665    0.9801    0.9715      7080\n",
      "\n",
      "######## Test Set Confusion Matrix ########\n",
      " [[6937    7]\n",
      " [ 134    2]] \n",
      "\n",
      "nDCG Score:  0.4219884003468281\n",
      "(Mean) Average Precision:  0.08077451954073742\n",
      "Balanced Accuracy:  0.5053082731923244 \n",
      "\n",
      "Average Precision @ k:  [10, 20, 50] [0.1142857142857143, 0.1142857142857143, 0.07714285714285715]\n"
     ]
    },
    {
     "data": {
      "image/png": "[encoded data removed]",
      "text/plain": [
       "<Figure size 640x480 with 1 Axes>"
      ]
     },
     "metadata": {},
     "output_type": "display_data"
    }
   ],
   "source": [
    "###############################################################\n",
    "# Post training and k-fold evaluation on test set starts here #\n",
    "###############################################################\n",
    "all_ground_truth_labels = []\n",
    "all_predicted_labels = []\n",
    "cfs_scores = []\n",
    "\n",
    "multi_test_doc_ground_truth_labels = []\n",
    "multi_test_doc_predicted_labels = []\n",
    "multi_test_doc_cfs_scores = []\n",
    "\n",
    "p_at_k_thresholds = [10, 20, 50]\n",
    "\n",
    "if test_file_path:\n",
    "    prev_sent_id = -1\n",
    "\n",
    "    if \".tsv\" in test_file_path or \".csv\" in test_file_path:\n",
    "        with open(test_file_path, encoding=test_file_encoding) as test_data_sv:\n",
    "            test_data = csv.reader(test_data_sv, delimiter=csv_delimiter, quotechar='\"')\n",
    "\n",
    "            if test_file_has_header:\n",
    "                next(test_data)\n",
    "\n",
    "            for d in test_data:\n",
    "                if int(d[0].split(',')[0]) < prev_sent_id and test_file_in_multiple_doc_order:\n",
    "                    multi_test_doc_ground_truth_labels.append(deepcopy(all_ground_truth_labels))\n",
    "                    multi_test_doc_predicted_labels.append(deepcopy(all_predicted_labels))\n",
    "                    multi_test_doc_cfs_scores.append(deepcopy(cfs_scores))\n",
    "\n",
    "                    all_ground_truth_labels = []\n",
    "                    all_predicted_labels = []\n",
    "                    cfs_scores = []\n",
    "                    prev_sent_id = int(d[0].split(',')[0])\n",
    "                else:\n",
    "                    prev_sent_id = int(d[0].split(',')[0])\n",
    "                \n",
    "                # Get label probabilities from trained model\n",
    "                cfs_score = getCFSScore(train_file_name, d[0].split(',')[2])\n",
    "                sentence_label = int(d[0].split(',')[-2])\n",
    "\n",
    "                # Aggregate ground truth and predicted labels for each sentence\n",
    "                all_ground_truth_labels.append(sentence_label)\n",
    "                all_predicted_labels.append(argmax(cfs_score))\n",
    "\n",
    "                # Aggregate CFS scores given by model\n",
    "                cfs_scores.append(cfs_score[1])\n",
    "            \n",
    "            if len(multi_test_doc_ground_truth_labels) and len(all_ground_truth_labels):\n",
    "                multi_test_doc_ground_truth_labels.append(deepcopy(all_ground_truth_labels))\n",
    "                multi_test_doc_predicted_labels.append(deepcopy(all_predicted_labels))\n",
    "                multi_test_doc_cfs_scores.append(deepcopy(cfs_scores))\n",
    "    else:\n",
    "        with open(test_file_path, encoding=test_file_encoding) as test_data_json:\n",
    "            test_data = json.load(test_data_json)\n",
    "\n",
    "            for d in test_data:\n",
    "                # Get label probabilities from trained model\n",
    "                cfs_score = getCFSScore(train_file_name, d[\"text\"])\n",
    "                sentence_label = int(d[\"label\"])\n",
    "\n",
    "                # Aggregate ground truth and predicted labels for each sentence\n",
    "                all_ground_truth_labels.append(sentence_label)\n",
    "                all_predicted_labels.append(argmax(cfs_score))\n",
    "\n",
    "                # Aggregate CFS scores given by model\n",
    "                cfs_scores.append(cfs_score[1])\n",
    "\n",
    "    if len(multi_test_doc_ground_truth_labels) == 0:\n",
    "        classification_report = mt.classification_report(all_ground_truth_labels, all_predicted_labels, digits=4)\n",
    "        confusion_matrix = mt.confusion_matrix(all_ground_truth_labels, all_predicted_labels)\n",
    "        balanced_accuracy = mt.balanced_accuracy_score(all_ground_truth_labels, all_predicted_labels)\n",
    "        average_precision = compute_average_precision(all_ground_truth_labels, cfs_scores)\n",
    "        ndcg = compute_ndcg(all_ground_truth_labels, cfs_scores)\n",
    "        try:\n",
    "            final_p_at_k = [x[th - 1] for x, th in zip(compute_precisions(all_ground_truth_labels, cfs_scores), p_at_k_thresholds)]\n",
    "        except IndexError:\n",
    "            final_p_at_k = \"Not enough test samples to calculate precisions at defined thresholds.\"\n",
    "    else:\n",
    "        merged_gt_labels = list(chain.from_iterable(multi_test_doc_ground_truth_labels))\n",
    "        merged_pred_labels = list(chain.from_iterable(multi_test_doc_predicted_labels))\n",
    "        classification_report = mt.classification_report(merged_gt_labels, merged_pred_labels, digits=4)\n",
    "        confusion_matrix = mt.confusion_matrix(merged_gt_labels, merged_pred_labels)\n",
    "\n",
    "        balanced_accuracy = sum([mt.balanced_accuracy_score(x, y) for x, y in zip(multi_test_doc_ground_truth_labels, multi_test_doc_predicted_labels)]) / len(multi_test_doc_ground_truth_labels)\n",
    "        average_precision = sum([compute_average_precision(x, y) for x, y in zip(multi_test_doc_ground_truth_labels, multi_test_doc_cfs_scores)]) / len(multi_test_doc_ground_truth_labels)\n",
    "        ndcg = sum([compute_ndcg(x, y) for x, y in zip(multi_test_doc_ground_truth_labels, multi_test_doc_cfs_scores)]) / len(multi_test_doc_ground_truth_labels)\n",
    "\n",
    "        final_p_at_k = [0.0] * len(p_at_k_thresholds)\n",
    "        precisions_at_k_pruned = []\n",
    "        precisions_at_k = [compute_precisions(x, y) for x, y in zip(multi_test_doc_ground_truth_labels, multi_test_doc_cfs_scores)]\n",
    "        try:\n",
    "            for p in precisions_at_k:\n",
    "                p_th = []\n",
    "\n",
    "                for th in p_at_k_thresholds:\n",
    "                    p_th.append(p[th - 1])\n",
    "                \n",
    "                precisions_at_k_pruned.append(p_th)\n",
    "\n",
    "            for i in range(0, len(p_at_k_thresholds)):\n",
    "                for p in precisions_at_k_pruned:\n",
    "                    final_p_at_k[i] += p[i]\n",
    "\n",
    "            final_p_at_k = [x / len(multi_test_doc_ground_truth_labels) for x in final_p_at_k]\n",
    "        except IndexError:\n",
    "            final_p_at_k = \"Not enough test samples to calculate precisions at defined thresholds.\"\n",
    "\n",
    "\n",
    "    print(\"###### Test Set Classification Report #####\\n\", classification_report)\n",
    "    print(\"######## Test Set Confusion Matrix ########\\n\", confusion_matrix, \"\\n\")\n",
    "    print(\"nDCG Score: \", ndcg)\n",
    "    print(\"(Mean) Average Precision: \", average_precision)\n",
    "    print(\"Balanced Accuracy: \", balanced_accuracy, \"\\n\")\n",
    "    print(\"Average Precision @ k: \", p_at_k_thresholds, final_p_at_k)\n",
    "    compute_kde(cfs_scores)\n"
   ]
  },
  {
   "cell_type": "code",
   "execution_count": null,
   "metadata": {},
   "outputs": [],
   "source": []
  }
 ],
 "metadata": {
  "accelerator": "TPU",
  "colab": {
   "collapsed_sections": [],
   "name": "ClaimBuster-SVM.ipynb",
   "provenance": [],
   "toc_visible": true
  },
  "kernelspec": {
   "display_name": "Python 3 (ipykernel)",
   "language": "python",
   "name": "python3"
  },
  "language_info": {
   "codemirror_mode": {
    "name": "ipython",
    "version": 3
   },
   "file_extension": ".py",
   "mimetype": "text/x-python",
   "name": "python",
   "nbconvert_exporter": "python",
   "pygments_lexer": "ipython3",
   "version": "3.11.5"
  }
 },
 "nbformat": 4,
 "nbformat_minor": 1
}
