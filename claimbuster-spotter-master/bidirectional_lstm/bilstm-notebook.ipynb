{
  "nbformat": 4,
  "nbformat_minor": 0,
  "metadata": {
    "colab": {
      "name": "ClaimBuster-BiLSTM.ipynb",
      "provenance": [],
      "collapsed_sections": [],
      "toc_visible": true
    },
    "kernelspec": {
      "name": "python3",
      "display_name": "Python 3"
    }
  },
  "cells": [
    {
      "cell_type": "markdown",
      "metadata": {
        "id": "OwR5E8YPzV8q"
      },
      "source": [
        "# Imports and Loading Data"
      ]
    },
    {
      "cell_type": "markdown",
      "metadata": {
        "id": "mdH2WrIiXtRu"
      },
      "source": [
        "Links to Google Colab containing other claim spotting models can be found below:\r\n",
        "\r\n",
        "\r\n",
        "*   [Transformer/BERT-based](https://colab.research.google.com/github/idirlab/claimspotter/blob/master/adv_transformer/adv_transformer-notebook.ipynb)\r\n",
        "*   [SVM](https://colab.research.google.com/github/idirlab/claimspotter/blob/master/svm/svm-notebook.ipynb)\r\n",
        "\r\n"
      ]
    },
    {
      "cell_type": "code",
      "metadata": {
        "id": "9s5qGyi5jWjU",
        "colab": {
          "base_uri": "https://localhost:8080/",
          "height": 35
        },
        "outputId": "48d60c4d-57e7-4bd4-a72b-c40d9a0323fc"
      },
      "source": [
        "# Copyright (C) 2020 IDIR Lab - UT Arlington\n",
        "#\n",
        "#     This program is free software: you can redistribute it and/or modify\n",
        "#     it under the terms of the GNU General Public License v3 as published by\n",
        "#     the Free Software Foundation.\n",
        "#\n",
        "#     This program is distributed in the hope that it will be useful,\n",
        "#     but WITHOUT ANY WARRANTY; without even the implied warranty of\n",
        "#     MERCHANTABILITY or FITNESS FOR A PARTICULAR PURPOSE. See the\n",
        "#     GNU General Public License for more details.\n",
        "#\n",
        "#     You should have received a copy of the GNU General Public License\n",
        "#     along with this program.  If not, see <https://www.gnu.org/licenses/>.\n",
        "#\n",
        "# Contact Information:\n",
        "#     See: https://idir.uta.edu/cli.html\n",
        "#\n",
        "#     Chengkai Li\n",
        "#     Box 19015\n",
        "#     Arlington, TX 76019\n",
        "#\n",
        "\n",
        "%tensorflow_version 2.x\n",
        "import os\n",
        "from shutil import rmtree\n",
        "import math\n",
        "import pandas as pd\n",
        "import numpy as np\n",
        "import tensorflow as tf\n",
        "from sklearn.metrics import classification_report\n",
        "from sklearn.model_selection import StratifiedKFold\n",
        "from sklearn import preprocessing\n",
        "from tensorflow.keras.models import Sequential\n",
        "from tensorflow.keras.layers import Dropout\n",
        "from tensorflow.keras.layers import Embedding, LSTM, Dense, Bidirectional\n",
        "from tensorflow.keras.preprocessing.text import Tokenizer\n",
        "from tensorflow.keras.preprocessing.sequence import pad_sequences\n",
        "from tensorflow.keras.utils import to_categorical\n",
        "\n",
        "try:\n",
        "    tpu = tf.distribute.cluster_resolver.TPUClusterResolver()  # TPU detection\n",
        "    print('Running on TPU ', tpu.cluster_spec().as_dict()['worker'])\n",
        "except ValueError:\n",
        "    raise BaseException('ERROR: Not connected to a TPU runtime; please see the previous cell in this notebook for instructions!')\n",
        "\n",
        "tf.config.experimental_connect_to_cluster(tpu)\n",
        "tf.tpu.experimental.initialize_tpu_system(tpu)\n",
        "tpu_strategy = tf.distribute.experimental.TPUStrategy(tpu)"
      ],
      "execution_count": null,
      "outputs": [
        {
          "output_type": "stream",
          "text": [
            "TensorFlow 2.x selected.\n"
          ],
          "name": "stdout"
        }
      ]
    },
    {
      "cell_type": "markdown",
      "metadata": {
        "id": "9eagO4yLoMEo"
      },
      "source": [
        "Define parameters for text vectorization"
      ]
    },
    {
      "cell_type": "code",
      "metadata": {
        "id": "-qNyabYwoiss"
      },
      "source": [
        "max_len = 500\n",
        "top_words = 5000\n",
        "max_words = 10000\n",
        "path_to_data = './'\n",
        "glove_dir = './'\n",
        "embedding_dim = 300\n",
        "embedding_file_name = 'glove.6B.300d.txt'"
      ],
      "execution_count": null,
      "outputs": []
    },
    {
      "cell_type": "markdown",
      "metadata": {
        "id": "GNVYIIo9qOEP"
      },
      "source": [
        "Obtain and process data"
      ]
    },
    {
      "cell_type": "code",
      "metadata": {
        "id": "j0cQy8mS4SNH"
      },
      "source": [
        "!wget -O claimbuster_dataset.json https://github.com/idirlab/claimspotter/raw/master/data/two_class/kfold_25ncs.json\n",
        "!wget -O glove6b.zip http://nlp.stanford.edu/data/glove.6B.zip\n",
        "!unzip glove6b.zip"
      ],
      "execution_count": null,
      "outputs": []
    },
    {
      "cell_type": "code",
      "metadata": {
        "id": "4H5nv2qOqWTv"
      },
      "source": [
        "dataset_loc = path_to_data + 'claimbuster_dataset.json'\n",
        "data = pd.read_json(dataset_loc)"
      ],
      "execution_count": null,
      "outputs": []
    },
    {
      "cell_type": "markdown",
      "metadata": {
        "id": "TB7cA1nvrByU"
      },
      "source": [
        "##### Read in labels and values (texts) for training and testing data\n"
      ]
    },
    {
      "cell_type": "code",
      "metadata": {
        "id": "RcRh7O2xopPF"
      },
      "source": [
        "labels = data.label\n",
        "texts = data.text"
      ],
      "execution_count": null,
      "outputs": []
    },
    {
      "cell_type": "markdown",
      "metadata": {
        "id": "eDiv4470rWvw"
      },
      "source": [
        "##### Vectorize data"
      ]
    },
    {
      "cell_type": "code",
      "metadata": {
        "id": "qDpybzrDrTK4"
      },
      "source": [
        "tokenizer = Tokenizer(num_words = max_words)\n",
        "tokenizer.fit_on_texts(texts)\n",
        "\n",
        "sequences = tokenizer.texts_to_sequences(texts)                \n",
        "word_index = tokenizer.word_index   \n",
        "data = pad_sequences(sequences, maxlen=max_len)\n",
        "labels = np.asarray(labels)             "
      ],
      "execution_count": null,
      "outputs": []
    },
    {
      "cell_type": "markdown",
      "metadata": {
        "id": "5MV5jE4Qr_qm"
      },
      "source": [
        "##### Shuffle data and labels"
      ]
    },
    {
      "cell_type": "code",
      "metadata": {
        "id": "U97GHgPfrvBX"
      },
      "source": [
        "indices = np.arange(data.shape[0])\n",
        "np.random.shuffle(indices)\n",
        "data = data[indices]\n",
        "labels = labels[indices]"
      ],
      "execution_count": null,
      "outputs": []
    },
    {
      "cell_type": "markdown",
      "metadata": {
        "id": "gRuMI9nisMHn"
      },
      "source": [
        "##### Convert labels to categorical values"
      ]
    },
    {
      "cell_type": "code",
      "metadata": {
        "id": "ZKlvDQu-sVmC"
      },
      "source": [
        "labels_categorical = to_categorical(labels)\n",
        "X_train = data\n",
        "Y_train = labels_categorical"
      ],
      "execution_count": null,
      "outputs": []
    },
    {
      "cell_type": "markdown",
      "metadata": {
        "id": "sTL5_k6m0I88"
      },
      "source": [
        "# Creating Model"
      ]
    },
    {
      "cell_type": "markdown",
      "metadata": {
        "id": "XdNA-4Jvskj8"
      },
      "source": [
        "##### Parse the GloVe word-embedding and normalize embedding matrix\n",
        "[https://blog.keras.io/using-pre-trained-word-embeddings-in-a-keras-model.html](https://blog.keras.io/using-pre-trained-word-embeddings-in-a-keras-model.html)"
      ]
    },
    {
      "cell_type": "code",
      "metadata": {
        "id": "qpGbhOSCsqQh"
      },
      "source": [
        "# create dictionary to map word -> embedding vector\n",
        "embeddings_index = {}                                        \n",
        "f = open(os.path.join(glove_dir, embedding_file_name))\n",
        "i = 0\n",
        "for line in f:\n",
        "    values = line.split()\n",
        "    word = values[0]\n",
        "    coefs = np.asarray(values[1:], dtype='float32')\n",
        "    embeddings_index[word] = coefs\n",
        "f.close()\n",
        "print(\"Found %s word vectors.\" % len(embeddings_index)) \n",
        "\n",
        "embedding_matrix = np.zeros((max_words, embedding_dim))\n",
        "for word, i in word_index.items():\n",
        "    if i < max_words:\n",
        "        embedding_vector = embeddings_index.get(word)\n",
        "        if embedding_vector is not None:\n",
        "            embedding_matrix[i] = embedding_vector"
      ],
      "execution_count": null,
      "outputs": []
    },
    {
      "cell_type": "code",
      "metadata": {
        "id": "iBUcbdw-tO2c"
      },
      "source": [
        "embedding_matrix = preprocessing.scale(embedding_matrix)"
      ],
      "execution_count": null,
      "outputs": []
    },
    {
      "cell_type": "markdown",
      "metadata": {
        "id": "eZCWrwR3tVtv"
      },
      "source": [
        "##### Define the model"
      ]
    },
    {
      "cell_type": "code",
      "metadata": {
        "id": "Xtvk0pbPtYLV"
      },
      "source": [
        "def create_model(max_words, embedding_dim, max_len, embedding_matrix):\n",
        "    hidden_dim = 300 \n",
        "    model = Sequential()\n",
        "    model.add(Embedding(max_words, embedding_dim, input_length=max_len))\n",
        "    model.add(Bidirectional(LSTM(hidden_dim)))\n",
        "    model.add(Dropout(0.5))\n",
        "    model.add(Dense(2, activation='softmax'))\n",
        "    \n",
        "    # Load embeddings\n",
        "    model.layers[0].set_weights([embedding_matrix])\n",
        "    model.layers[0].trainable = False   \n",
        "    \n",
        "    # Compile\n",
        "    model.compile(loss='binary_crossentropy', optimizer='rmsprop', metrics=['acc'])\n",
        "    \n",
        "    return model"
      ],
      "execution_count": null,
      "outputs": []
    },
    {
      "cell_type": "markdown",
      "metadata": {
        "id": "wNbgDlKQwrCW"
      },
      "source": [
        "##### Define functions for computing performance metrics"
      ]
    },
    {
      "cell_type": "code",
      "metadata": {
        "id": "1ZfDfdEDtltO"
      },
      "source": [
        "def compute_average_precision(labels, scores, cutoff=None):\n",
        "    # https://github.com/apepa/clef2019-factchecking-task1/blob/master/scorer/task1.py#L52\n",
        "    combined = sorted([(scores[i], labels[i]) for i in range(len(scores))], reverse=True)\n",
        "    combined = combined if cutoff is None else combined[:(cutoff if cutoff < len(combined) else len(combined))]\n",
        "    labels = [x[1] for x in combined]\n",
        "    precisions = []\n",
        "    num_correct = 0\n",
        "    num_positive = sum(labels)\n",
        "    for i, x in enumerate(combined):\n",
        "        if cutoff is not None and i >= cutoff:\n",
        "            break\n",
        "        if x[1] == 1:\n",
        "            num_correct += 1\n",
        "            precisions.append(num_correct / (i + 1))\n",
        "    if precisions:\n",
        "        avg_prec = sum(precisions) / num_positive\n",
        "    else:\n",
        "        avg_prec = 0.0\n",
        "    return avg_prec"
      ],
      "execution_count": null,
      "outputs": []
    },
    {
      "cell_type": "code",
      "metadata": {
        "id": "6u9xIzZct2iB"
      },
      "source": [
        "def compute_dcg_term(i, labels, ver=1):\n",
        "    # Difference between version 0 and 1: https://en.wikipedia.org/wiki/Discounted_cumulative_gain#Discounted_Cumulative_Gain\n",
        "    return labels[i - 1] / math.log2(i + 1) if ver == 0 else ((1 << labels[i - 1]) - 1) / math.log2(i + 1)\n",
        "\n",
        "def compute_ndcg(labels, scores, cutoff=None):\n",
        "    # Precondition: for each index i, scores[i] corresponds with labels[i]\n",
        "    ver = 0\n",
        "    combined = sorted([(scores[i], labels[i]) for i in range(len(scores))], reverse=True)\n",
        "    combined = combined if cutoff is None else combined[:(cutoff if cutoff < len(combined) else len(combined))]\n",
        "    labels = [x[1] for x in combined]\n",
        "    dcg = sum([compute_dcg_term(i, labels, ver=ver) for i in range(1, len(labels) + 1, 1)])\n",
        "    ideal_labels = sorted(labels, reverse=True)\n",
        "    idcg = sum([compute_dcg_term(i, ideal_labels, ver=ver) for i in range(1, len(labels) + 1, 1)])\n",
        "    return dcg / idcg"
      ],
      "execution_count": null,
      "outputs": []
    },
    {
      "cell_type": "markdown",
      "metadata": {
        "id": "wPe4__50uIQe"
      },
      "source": [
        "##### K-Folds model training and evaluation"
      ]
    },
    {
      "cell_type": "code",
      "metadata": {
        "id": "zG27E96BuNDT"
      },
      "source": [
        "n_folds = 4\n",
        "shuffle = True\n",
        "random_state = 1\n",
        "predicted_y_list = []\n",
        "true_y_list = []\n",
        "cfs_probabilities = []"
      ],
      "execution_count": null,
      "outputs": []
    },
    {
      "cell_type": "markdown",
      "metadata": {
        "id": "GdEBdX4D2cYI"
      },
      "source": [
        "# Train BiLSTM"
      ]
    },
    {
      "cell_type": "code",
      "metadata": {
        "id": "iUBNl1VTuQCL"
      },
      "source": [
        "for train_index, test_index in StratifiedKFold(n_splits=n_folds, shuffle=shuffle, random_state=random_state).split(X_train, labels):\n",
        "    x_train, x_test = X_train[train_index], X_train[test_index]\n",
        "    y_train, y_test = Y_train[train_index], Y_train[test_index]\n",
        "    \n",
        "\n",
        "    # Enter TPU env:\n",
        "    with tpu_strategy.scope():\n",
        "        # instantiate model\n",
        "        print(\"x_train dimensions: \", x_train.shape)\n",
        "        print(\"y_train dimensions: \", y_train.shape)\n",
        "        model = create_model(max_words, embedding_dim, max_len, embedding_matrix)\n",
        "        \n",
        "        # train model\n",
        "        print(\"Training ....\")\n",
        "        history = model.fit(x_train, y_train, epochs = 15)\n",
        "        \n",
        "        # print fold classification report\n",
        "        y_hat = model.predict(x_test, verbose = 0)\n",
        "        cfs_probs = y_hat[:, 1]\n",
        "        y_hat_classes = tf.argmax(y_hat, axis=1).numpy()\n",
        "        y_test_classes = tf.argmax(y_test, axis=1).numpy()\n",
        "    \n",
        "    print(classification_report(y_test_classes, y_hat_classes, ))\n",
        "    print(\"Average precision: \", compute_average_precision(y_test_classes, y_hat_classes))\n",
        "    print(\"ndcg: \", compute_ndcg(y_test_classes, cfs_probs))\n",
        "    \n",
        "    # store predicted and true values for aggregated classification report\n",
        "    predicted_y_list.extend(y_hat_classes)\n",
        "    true_y_list.extend(y_test_classes)\n",
        "    cfs_probabilities.extend(cfs_probs)"
      ],
      "execution_count": null,
      "outputs": []
    },
    {
      "cell_type": "code",
      "metadata": {
        "id": "OxwK6z_RuWhM"
      },
      "source": [
        "print(\"Classification report for all models\")\n",
        "print(classification_report(true_y_list, predicted_y_list, digits=4))"
      ],
      "execution_count": null,
      "outputs": []
    },
    {
      "cell_type": "code",
      "metadata": {
        "id": "zC8lW-V6uaGo"
      },
      "source": [
        "precisions = compute_average_precision(true_y_list, predicted_y_list)\n",
        "print(precisions)"
      ],
      "execution_count": null,
      "outputs": []
    },
    {
      "cell_type": "code",
      "metadata": {
        "id": "bYZf0wkauem2"
      },
      "source": [
        "ndcg = compute_ndcg(true_y_list, cfs_probabilities)\n",
        "print(ndcg)"
      ],
      "execution_count": null,
      "outputs": []
    },
    {
      "cell_type": "markdown",
      "metadata": {
        "id": "zQQkO363ujks"
      },
      "source": [
        "##### Training model on full dataset and save it."
      ]
    },
    {
      "cell_type": "code",
      "metadata": {
        "id": "gci33w2g57CS"
      },
      "source": [
        "# Reset saved_models dir\n",
        "rmtree(\"./saved_models\", ignore_errors=True)\n",
        "os.makedirs(\"saved_models\", exist_ok=False)"
      ],
      "execution_count": null,
      "outputs": []
    },
    {
      "cell_type": "code",
      "metadata": {
        "id": "C63G_pf8upNO"
      },
      "source": [
        "with tpu_strategy.scope():\n",
        "    full_model = create_model(max_words, embedding_dim, max_len, embedding_matrix)"
      ],
      "execution_count": null,
      "outputs": []
    },
    {
      "cell_type": "code",
      "metadata": {
        "id": "wHFHL5PyuzS5"
      },
      "source": [
        "with tpu_strategy.scope():\n",
        "    history = full_model.fit(X_train, Y_train, epochs = 14)"
      ],
      "execution_count": null,
      "outputs": []
    },
    {
      "cell_type": "code",
      "metadata": {
        "id": "nWnGR8wnu3BV"
      },
      "source": [
        "full_model.save(os.path.join(\"./saved_models/\", 'Full_BiLSTM.h5'))"
      ],
      "execution_count": null,
      "outputs": []
    }
  ]
}