{
 "cells": [
  {
   "cell_type": "markdown",
   "metadata": {
    "id": "OwR5E8YPzV8q"
   },
   "source": [
    "# Imports and Loading Data"
   ]
  },
  {
   "cell_type": "markdown",
   "metadata": {
    "id": "mdH2WrIiXtRu"
   },
   "source": [
    "Links to Google Colab containing other claim spotting models can be found below:\n",
    "\n",
    "\n",
    "*   [Transformer/BERT-based](https://colab.research.google.com/github/idirlab/claimspotter/blob/master/adv_transformer/adv_transformer-notebook.ipynb)\n",
    "*   [SVM](https://colab.research.google.com/github/idirlab/claimspotter/blob/master/svm/svm-notebook.ipynb)\n",
    "\n"
   ]
  },
  {
   "cell_type": "code",
   "execution_count": 1,
   "metadata": {
    "colab": {
     "base_uri": "https://localhost:8080/",
     "height": 35
    },
    "id": "9s5qGyi5jWjU",
    "outputId": "48d60c4d-57e7-4bd4-a72b-c40d9a0323fc"
   },
   "outputs": [
    {
     "name": "stderr",
     "output_type": "stream",
     "text": [
      "2024-02-16 16:05:24.501171: I tensorflow/core/util/port.cc:113] oneDNN custom operations are on. You may see slightly different numerical results due to floating-point round-off errors from different computation orders. To turn them off, set the environment variable `TF_ENABLE_ONEDNN_OPTS=0`.\n",
      "2024-02-16 16:05:24.590335: E external/local_xla/xla/stream_executor/cuda/cuda_dnn.cc:9261] Unable to register cuDNN factory: Attempting to register factory for plugin cuDNN when one has already been registered\n",
      "2024-02-16 16:05:24.590370: E external/local_xla/xla/stream_executor/cuda/cuda_fft.cc:607] Unable to register cuFFT factory: Attempting to register factory for plugin cuFFT when one has already been registered\n",
      "2024-02-16 16:05:24.598004: E external/local_xla/xla/stream_executor/cuda/cuda_blas.cc:1515] Unable to register cuBLAS factory: Attempting to register factory for plugin cuBLAS when one has already been registered\n",
      "2024-02-16 16:05:24.610893: I tensorflow/core/platform/cpu_feature_guard.cc:182] This TensorFlow binary is optimized to use available CPU instructions in performance-critical operations.\n",
      "To enable the following instructions: AVX2 AVX512F AVX512_VNNI FMA, in other operations, rebuild TensorFlow with the appropriate compiler flags.\n",
      "2024-02-16 16:05:40.961666: W tensorflow/compiler/tf2tensorrt/utils/py_utils.cc:38] TF-TRT Warning: Could not find TensorRT\n"
     ]
    },
    {
     "name": "stdout",
     "output_type": "stream",
     "text": [
      "[PhysicalDevice(name='/physical_device:GPU:0', device_type='GPU')]\n",
      "[PhysicalDevice(name='/physical_device:CPU:0', device_type='CPU'), PhysicalDevice(name='/physical_device:GPU:0', device_type='GPU')]\n",
      "Not connected to a TPU runtime; please see the previous cell in this notebook for instructions!\n"
     ]
    }
   ],
   "source": [
    "# Copyright (C) 2020 IDIR Lab - UT Arlington\n",
    "#\n",
    "#     This program is free software: you can redistribute it and/or modify\n",
    "#     it under the terms of the GNU General Public License v3 as published by\n",
    "#     the Free Software Foundation.\n",
    "#\n",
    "#     This program is distributed in the hope that it will be useful,\n",
    "#     but WITHOUT ANY WARRANTY; without even the implied warranty of\n",
    "#     MERCHANTABILITY or FITNESS FOR A PARTICULAR PURPOSE. See the\n",
    "#     GNU General Public License for more details.\n",
    "#\n",
    "#     You should have received a copy of the GNU General Public License\n",
    "#     along with this program.  If not, see <https://www.gnu.org/licenses/>.\n",
    "#\n",
    "# Contact Information:\n",
    "#     See: https://idir.uta.edu/cli.html\n",
    "#\n",
    "#     Chengkai Li\n",
    "#     Box 19015\n",
    "#     Arlington, TX 76019\n",
    "#\n",
    "\n",
    "# %tensorflow_version 2.x\n",
    "import os\n",
    "from shutil import rmtree\n",
    "import math\n",
    "import pandas as pd\n",
    "import numpy as np\n",
    "import tensorflow as tf\n",
    "print(tf.config.list_physical_devices('GPU'))\n",
    "from sklearn.metrics import classification_report\n",
    "from sklearn.model_selection import StratifiedKFold\n",
    "from sklearn import preprocessing\n",
    "from tensorflow.keras.models import Sequential\n",
    "from tensorflow.keras.layers import Dropout\n",
    "from tensorflow.keras.layers import Embedding, LSTM, Dense, Bidirectional\n",
    "from tensorflow.keras.preprocessing.text import Tokenizer\n",
    "from tensorflow.keras.preprocessing.sequence import pad_sequences\n",
    "from tensorflow.keras.utils import to_categorical\n",
    "from urllib.request import urlretrieve\n",
    "from zipfile import ZipFile\n",
    "\n",
    "print(tf.config.list_physical_devices())\n",
    "try:\n",
    "    tpu = tf.distribute.cluster_resolver.TPUClusterResolver()  # TPU detection\n",
    "    print('Running on TPU ', tpu.cluster_spec().as_dict()['worker'])\n",
    "    tf.config.experimental_connect_to_cluster(tpu)\n",
    "    tf.tpu.experimental.initialize_tpu_system(tpu)\n",
    "    tpu_strategy = tf.distribute.experimental.TPUStrategy(tpu)\n",
    "except ValueError:\n",
    "    tpu_strategy = None\n",
    "    print('Not connected to a TPU runtime; please see the previous cell in this notebook for instructions!')\n"
   ]
  },
  {
   "cell_type": "markdown",
   "metadata": {
    "id": "9eagO4yLoMEo"
   },
   "source": [
    "Define parameters for text vectorization"
   ]
  },
  {
   "cell_type": "code",
   "execution_count": 2,
   "metadata": {
    "id": "-qNyabYwoiss"
   },
   "outputs": [],
   "source": [
    "max_len = 500\n",
    "top_words = 5000\n",
    "max_words = 10000\n",
    "path_to_data = './'\n",
    "glove_dir = './'\n",
    "embedding_dim = 300\n",
    "embedding_file_name = 'glove.6B.300d.txt'"
   ]
  },
  {
   "cell_type": "markdown",
   "metadata": {
    "id": "GNVYIIo9qOEP"
   },
   "source": [
    "Obtain and process data"
   ]
  },
  {
   "cell_type": "code",
   "execution_count": 6,
   "metadata": {
    "id": "j0cQy8mS4SNH"
   },
   "outputs": [],
   "source": [
    "urlretrieve(\"https://github.com/idirlab/claimspotter/raw/master/data/two_class/kfold_25ncs.json\", \"claimbuster_dataset.json\")\n",
    "urlretrieve(\"http://nlp.stanford.edu/data/glove.6B.zip\", \"glove6b.zip\", )\n",
    "with ZipFile('glove6b.zip', 'r') as z:\n",
    "    z.extractall()\n",
    "os.remove('glove6b.zip')"
   ]
  },
  {
   "cell_type": "code",
   "execution_count": 3,
   "metadata": {
    "id": "4H5nv2qOqWTv"
   },
   "outputs": [],
   "source": [
    "dataset_loc = path_to_data + 'claimbuster_dataset.json'\n",
    "data = pd.read_json(dataset_loc)"
   ]
  },
  {
   "cell_type": "markdown",
   "metadata": {
    "id": "TB7cA1nvrByU"
   },
   "source": [
    "##### Read in labels and values (texts) for training and testing data\n"
   ]
  },
  {
   "cell_type": "code",
   "execution_count": 4,
   "metadata": {
    "id": "RcRh7O2xopPF"
   },
   "outputs": [],
   "source": [
    "labels = data.label\n",
    "texts = data.text"
   ]
  },
  {
   "cell_type": "markdown",
   "metadata": {
    "id": "eDiv4470rWvw"
   },
   "source": [
    "##### Vectorize data"
   ]
  },
  {
   "cell_type": "code",
   "execution_count": 5,
   "metadata": {
    "id": "qDpybzrDrTK4"
   },
   "outputs": [],
   "source": [
    "tokenizer = Tokenizer(num_words = max_words)\n",
    "tokenizer.fit_on_texts(texts)\n",
    "\n",
    "sequences = tokenizer.texts_to_sequences(texts)                \n",
    "word_index = tokenizer.word_index   \n",
    "data = pad_sequences(sequences, maxlen=max_len)\n",
    "labels = np.asarray(labels)             "
   ]
  },
  {
   "cell_type": "markdown",
   "metadata": {
    "id": "5MV5jE4Qr_qm"
   },
   "source": [
    "##### Shuffle data and labels"
   ]
  },
  {
   "cell_type": "code",
   "execution_count": 6,
   "metadata": {
    "id": "U97GHgPfrvBX"
   },
   "outputs": [],
   "source": [
    "indices = np.arange(data.shape[0])\n",
    "np.random.shuffle(indices)\n",
    "data = data[indices]\n",
    "labels = labels[indices]"
   ]
  },
  {
   "cell_type": "markdown",
   "metadata": {
    "id": "gRuMI9nisMHn"
   },
   "source": [
    "##### Convert labels to categorical values"
   ]
  },
  {
   "cell_type": "code",
   "execution_count": 7,
   "metadata": {
    "id": "ZKlvDQu-sVmC"
   },
   "outputs": [],
   "source": [
    "labels_categorical = to_categorical(labels)\n",
    "X_train = data\n",
    "Y_train = labels_categorical"
   ]
  },
  {
   "cell_type": "markdown",
   "metadata": {
    "id": "sTL5_k6m0I88"
   },
   "source": [
    "# Creating Model"
   ]
  },
  {
   "cell_type": "markdown",
   "metadata": {
    "id": "XdNA-4Jvskj8"
   },
   "source": [
    "##### Parse the GloVe word-embedding and normalize embedding matrix\n",
    "[https://blog.keras.io/using-pre-trained-word-embeddings-in-a-keras-model.html](https://blog.keras.io/using-pre-trained-word-embeddings-in-a-keras-model.html)"
   ]
  },
  {
   "cell_type": "code",
   "execution_count": 8,
   "metadata": {
    "id": "qpGbhOSCsqQh"
   },
   "outputs": [
    {
     "name": "stdout",
     "output_type": "stream",
     "text": [
      "Found 400000 word vectors.\n"
     ]
    }
   ],
   "source": [
    "# create dictionary to map word -> embedding vector\n",
    "embeddings_index = {}                                        \n",
    "f = open(os.path.join(glove_dir, embedding_file_name))\n",
    "i = 0\n",
    "for line in f:\n",
    "    values = line.split()\n",
    "    word = values[0]\n",
    "    coefs = np.asarray(values[1:], dtype='float32')\n",
    "    embeddings_index[word] = coefs\n",
    "f.close()\n",
    "print(\"Found %s word vectors.\" % len(embeddings_index)) \n",
    "\n",
    "embedding_matrix = np.zeros((max_words, embedding_dim))\n",
    "for word, i in word_index.items():\n",
    "    if i < max_words:\n",
    "        embedding_vector = embeddings_index.get(word)\n",
    "        if embedding_vector is not None:\n",
    "            embedding_matrix[i] = embedding_vector"
   ]
  },
  {
   "cell_type": "code",
   "execution_count": 9,
   "metadata": {
    "id": "iBUcbdw-tO2c"
   },
   "outputs": [],
   "source": [
    "embedding_matrix = preprocessing.scale(embedding_matrix)"
   ]
  },
  {
   "cell_type": "markdown",
   "metadata": {
    "id": "eZCWrwR3tVtv"
   },
   "source": [
    "##### Define the model"
   ]
  },
  {
   "cell_type": "code",
   "execution_count": 10,
   "metadata": {
    "id": "Xtvk0pbPtYLV"
   },
   "outputs": [],
   "source": [
    "def create_model(max_words, embedding_dim, max_len, embedding_matrix):\n",
    "    hidden_dim = 300 \n",
    "    model = Sequential()\n",
    "    model.add(Embedding(max_words, embedding_dim, input_length=max_len))\n",
    "    model.add(Bidirectional(LSTM(hidden_dim)))\n",
    "    model.add(Dropout(0.5))\n",
    "    model.add(Dense(2, activation='softmax'))\n",
    "    \n",
    "    # Load embeddings\n",
    "    model.layers[0].set_weights([embedding_matrix])\n",
    "    model.layers[0].trainable = False   \n",
    "    \n",
    "    # Compile\n",
    "    model.compile(loss='binary_crossentropy', optimizer='rmsprop', metrics=['acc'])\n",
    "    \n",
    "    return model"
   ]
  },
  {
   "cell_type": "markdown",
   "metadata": {
    "id": "wNbgDlKQwrCW"
   },
   "source": [
    "##### Define functions for computing performance metrics"
   ]
  },
  {
   "cell_type": "code",
   "execution_count": 11,
   "metadata": {
    "id": "1ZfDfdEDtltO"
   },
   "outputs": [],
   "source": [
    "def compute_average_precision(labels, scores, cutoff=None):\n",
    "    # https://github.com/apepa/clef2019-factchecking-task1/blob/master/scorer/task1.py#L52\n",
    "    combined = sorted([(scores[i], labels[i]) for i in range(len(scores))], reverse=True)\n",
    "    combined = combined if cutoff is None else combined[:(cutoff if cutoff < len(combined) else len(combined))]\n",
    "    labels = [x[1] for x in combined]\n",
    "    precisions = []\n",
    "    num_correct = 0\n",
    "    num_positive = sum(labels)\n",
    "    for i, x in enumerate(combined):\n",
    "        if cutoff is not None and i >= cutoff:\n",
    "            break\n",
    "        if x[1] == 1:\n",
    "            num_correct += 1\n",
    "            precisions.append(num_correct / (i + 1))\n",
    "    if precisions:\n",
    "        avg_prec = sum(precisions) / num_positive\n",
    "    else:\n",
    "        avg_prec = 0.0\n",
    "    return avg_prec"
   ]
  },
  {
   "cell_type": "code",
   "execution_count": 12,
   "metadata": {
    "id": "6u9xIzZct2iB"
   },
   "outputs": [],
   "source": [
    "def compute_dcg_term(i, labels, ver=1):\n",
    "    # Difference between version 0 and 1: https://en.wikipedia.org/wiki/Discounted_cumulative_gain#Discounted_Cumulative_Gain\n",
    "    return labels[i - 1] / math.log2(i + 1) if ver == 0 else ((1 << labels[i - 1]) - 1) / math.log2(i + 1)\n",
    "\n",
    "def compute_ndcg(labels, scores, cutoff=None):\n",
    "    # Precondition: for each index i, scores[i] corresponds with labels[i]\n",
    "    ver = 0\n",
    "    combined = sorted([(scores[i], labels[i]) for i in range(len(scores))], reverse=True)\n",
    "    combined = combined if cutoff is None else combined[:(cutoff if cutoff < len(combined) else len(combined))]\n",
    "    labels = [x[1] for x in combined]\n",
    "    dcg = sum([compute_dcg_term(i, labels, ver=ver) for i in range(1, len(labels) + 1, 1)])\n",
    "    ideal_labels = sorted(labels, reverse=True)\n",
    "    idcg = sum([compute_dcg_term(i, ideal_labels, ver=ver) for i in range(1, len(labels) + 1, 1)])\n",
    "    return dcg / idcg"
   ]
  },
  {
   "cell_type": "markdown",
   "metadata": {
    "id": "wPe4__50uIQe"
   },
   "source": [
    "##### K-Folds model training and evaluation"
   ]
  },
  {
   "cell_type": "code",
   "execution_count": 13,
   "metadata": {
    "id": "zG27E96BuNDT"
   },
   "outputs": [],
   "source": [
    "n_folds = 4\n",
    "shuffle = True\n",
    "random_state = 1\n",
    "predicted_y_list = []\n",
    "true_y_list = []\n",
    "cfs_probabilities = []"
   ]
  },
  {
   "cell_type": "markdown",
   "metadata": {
    "id": "GdEBdX4D2cYI"
   },
   "source": [
    "# Train BiLSTM"
   ]
  },
  {
   "cell_type": "code",
   "execution_count": 14,
   "metadata": {
    "id": "iUBNl1VTuQCL"
   },
   "outputs": [
    {
     "name": "stdout",
     "output_type": "stream",
     "text": [
      "x_train dimensions:  (7255, 500)\n",
      "y_train dimensions:  (7255, 2)\n"
     ]
    },
    {
     "name": "stderr",
     "output_type": "stream",
     "text": [
      "2024-02-16 16:07:29.198252: I tensorflow/core/common_runtime/gpu/gpu_device.cc:1929] Created device /job:localhost/replica:0/task:0/device:GPU:0 with 38374 MB memory:  -> device: 0, name: NVIDIA A100-PCIE-40GB, pci bus id: 0000:c1:00.0, compute capability: 8.0\n",
      "2024-02-16 16:07:35.204229: I external/local_tsl/tsl/platform/default/subprocess.cc:304] Start cannot spawn child process: No such file or directory\n"
     ]
    },
    {
     "name": "stdout",
     "output_type": "stream",
     "text": [
      "Training ....\n",
      "Epoch 1/15\n"
     ]
    },
    {
     "name": "stderr",
     "output_type": "stream",
     "text": [
      "2024-02-16 16:07:43.964806: I external/local_xla/xla/stream_executor/cuda/cuda_dnn.cc:454] Loaded cuDNN version 8904\n",
      "2024-02-16 16:07:47.721891: I external/local_xla/xla/service/service.cc:168] XLA service 0x7fa4e4b9e320 initialized for platform CUDA (this does not guarantee that XLA will be used). Devices:\n",
      "2024-02-16 16:07:47.721924: I external/local_xla/xla/service/service.cc:176]   StreamExecutor device (0): NVIDIA A100-PCIE-40GB, Compute Capability 8.0\n",
      "2024-02-16 16:07:48.355788: I tensorflow/compiler/mlir/tensorflow/utils/dump_mlir_util.cc:269] disabling MLIR crash reproducer, set env var `MLIR_CRASH_REPRODUCER_DIRECTORY` to enable.\n",
      "WARNING: All log messages before absl::InitializeLog() is called are written to STDERR\n",
      "I0000 00:00:1708096069.231657 4179544 device_compiler.h:186] Compiled cluster using XLA!  This line is logged at most once for the lifetime of the process.\n"
     ]
    },
    {
     "name": "stdout",
     "output_type": "stream",
     "text": [
      "227/227 [==============================] - 19s 37ms/step - loss: 0.3728 - acc: 0.8434\n",
      "Epoch 2/15\n",
      "227/227 [==============================] - 9s 38ms/step - loss: 0.2802 - acc: 0.8873\n",
      "Epoch 3/15\n",
      "227/227 [==============================] - 8s 37ms/step - loss: 0.2287 - acc: 0.9115\n",
      "Epoch 4/15\n",
      "227/227 [==============================] - 8s 37ms/step - loss: 0.1781 - acc: 0.9311\n",
      "Epoch 5/15\n",
      "227/227 [==============================] - 9s 38ms/step - loss: 0.1305 - acc: 0.9507\n",
      "Epoch 6/15\n",
      "227/227 [==============================] - 8s 37ms/step - loss: 0.0867 - acc: 0.9671\n",
      "Epoch 7/15\n",
      "227/227 [==============================] - 8s 37ms/step - loss: 0.0591 - acc: 0.9811\n",
      "Epoch 8/15\n",
      "227/227 [==============================] - 8s 37ms/step - loss: 0.0347 - acc: 0.9898\n",
      "Epoch 9/15\n",
      "227/227 [==============================] - 8s 37ms/step - loss: 0.0219 - acc: 0.9935\n",
      "Epoch 10/15\n",
      "227/227 [==============================] - 8s 37ms/step - loss: 0.0172 - acc: 0.9953\n",
      "Epoch 11/15\n",
      "227/227 [==============================] - 8s 37ms/step - loss: 0.0167 - acc: 0.9950\n",
      "Epoch 12/15\n",
      "227/227 [==============================] - 8s 37ms/step - loss: 0.0091 - acc: 0.9966\n",
      "Epoch 13/15\n",
      "227/227 [==============================] - 8s 37ms/step - loss: 0.0105 - acc: 0.9975\n",
      "Epoch 14/15\n",
      "227/227 [==============================] - 8s 37ms/step - loss: 0.0128 - acc: 0.9978\n",
      "Epoch 15/15\n",
      "227/227 [==============================] - 8s 37ms/step - loss: 0.0052 - acc: 0.9983\n",
      "              precision    recall  f1-score   support\n",
      "\n",
      "           0       0.90      0.93      0.91      1728\n",
      "           1       0.81      0.74      0.77       691\n",
      "\n",
      "    accuracy                           0.88      2419\n",
      "   macro avg       0.86      0.83      0.84      2419\n",
      "weighted avg       0.87      0.88      0.87      2419\n",
      "\n",
      "Average precision:  0.9565475704143185\n",
      "ndcg:  0.9808090047439703\n",
      "x_train dimensions:  (7255, 500)\n",
      "y_train dimensions:  (7255, 2)\n",
      "Training ....\n",
      "Epoch 1/15\n",
      "227/227 [==============================] - 11s 38ms/step - loss: 0.3663 - acc: 0.8459\n",
      "Epoch 2/15\n",
      "227/227 [==============================] - 8s 37ms/step - loss: 0.2706 - acc: 0.8930\n",
      "Epoch 3/15\n",
      "227/227 [==============================] - 8s 37ms/step - loss: 0.2293 - acc: 0.9088\n",
      "Epoch 4/15\n",
      "227/227 [==============================] - 8s 37ms/step - loss: 0.1759 - acc: 0.9331\n",
      "Epoch 5/15\n",
      "227/227 [==============================] - 8s 37ms/step - loss: 0.1298 - acc: 0.9538\n",
      "Epoch 6/15\n",
      "227/227 [==============================] - 8s 37ms/step - loss: 0.0865 - acc: 0.9698\n",
      "Epoch 7/15\n",
      "227/227 [==============================] - 8s 37ms/step - loss: 0.0571 - acc: 0.9808\n",
      "Epoch 8/15\n",
      "227/227 [==============================] - 8s 37ms/step - loss: 0.0395 - acc: 0.9894\n",
      "Epoch 9/15\n",
      "227/227 [==============================] - 8s 37ms/step - loss: 0.0246 - acc: 0.9930\n",
      "Epoch 10/15\n",
      "227/227 [==============================] - 9s 38ms/step - loss: 0.0202 - acc: 0.9924\n",
      "Epoch 11/15\n",
      "227/227 [==============================] - 8s 37ms/step - loss: 0.0145 - acc: 0.9961\n",
      "Epoch 12/15\n",
      "227/227 [==============================] - 8s 37ms/step - loss: 0.0082 - acc: 0.9975\n",
      "Epoch 13/15\n",
      "227/227 [==============================] - 8s 37ms/step - loss: 0.0062 - acc: 0.9981\n",
      "Epoch 14/15\n",
      "227/227 [==============================] - 8s 37ms/step - loss: 0.0067 - acc: 0.9979\n",
      "Epoch 15/15\n",
      "227/227 [==============================] - 8s 37ms/step - loss: 0.0081 - acc: 0.9985\n",
      "              precision    recall  f1-score   support\n",
      "\n",
      "           0       0.92      0.86      0.89      1728\n",
      "           1       0.71      0.81      0.76       691\n",
      "\n",
      "    accuracy                           0.85      2419\n",
      "   macro avg       0.81      0.84      0.82      2419\n",
      "weighted avg       0.86      0.85      0.85      2419\n",
      "\n",
      "Average precision:  0.9490100352939076\n",
      "ndcg:  0.9808920211166801\n",
      "x_train dimensions:  (7256, 500)\n",
      "y_train dimensions:  (7256, 2)\n",
      "Training ....\n",
      "Epoch 1/15\n",
      "227/227 [==============================] - 11s 37ms/step - loss: 0.3683 - acc: 0.8429\n",
      "Epoch 2/15\n",
      "227/227 [==============================] - 8s 37ms/step - loss: 0.2856 - acc: 0.8826\n",
      "Epoch 3/15\n",
      "227/227 [==============================] - 8s 37ms/step - loss: 0.2370 - acc: 0.9030\n",
      "Epoch 4/15\n",
      "227/227 [==============================] - 8s 37ms/step - loss: 0.1873 - acc: 0.9299\n",
      "Epoch 5/15\n",
      "227/227 [==============================] - 8s 37ms/step - loss: 0.1321 - acc: 0.9530\n",
      "Epoch 6/15\n",
      "227/227 [==============================] - 9s 38ms/step - loss: 0.0904 - acc: 0.9683\n",
      "Epoch 7/15\n",
      "227/227 [==============================] - 8s 37ms/step - loss: 0.0568 - acc: 0.9806\n",
      "Epoch 8/15\n",
      "227/227 [==============================] - 8s 37ms/step - loss: 0.0388 - acc: 0.9859\n",
      "Epoch 9/15\n",
      "227/227 [==============================] - 8s 37ms/step - loss: 0.0210 - acc: 0.9937\n",
      "Epoch 10/15\n",
      "227/227 [==============================] - 8s 37ms/step - loss: 0.0166 - acc: 0.9941\n",
      "Epoch 11/15\n",
      "227/227 [==============================] - 8s 37ms/step - loss: 0.0123 - acc: 0.9959\n",
      "Epoch 12/15\n",
      "227/227 [==============================] - 8s 37ms/step - loss: 0.0085 - acc: 0.9974\n",
      "Epoch 13/15\n",
      "227/227 [==============================] - 8s 37ms/step - loss: 0.0081 - acc: 0.9981\n",
      "Epoch 14/15\n",
      "227/227 [==============================] - 8s 37ms/step - loss: 0.0070 - acc: 0.9977\n",
      "Epoch 15/15\n",
      "227/227 [==============================] - 8s 37ms/step - loss: 0.0050 - acc: 0.9983\n",
      "              precision    recall  f1-score   support\n",
      "\n",
      "           0       0.91      0.93      0.92      1727\n",
      "           1       0.82      0.76      0.79       691\n",
      "\n",
      "    accuracy                           0.88      2418\n",
      "   macro avg       0.86      0.85      0.86      2418\n",
      "weighted avg       0.88      0.88      0.88      2418\n",
      "\n",
      "Average precision:  0.9621500567702402\n",
      "ndcg:  0.9834503185475733\n",
      "x_train dimensions:  (7256, 500)\n",
      "y_train dimensions:  (7256, 2)\n",
      "Training ....\n",
      "Epoch 1/15\n",
      "227/227 [==============================] - 11s 38ms/step - loss: 0.3560 - acc: 0.8480\n",
      "Epoch 2/15\n",
      "227/227 [==============================] - 8s 37ms/step - loss: 0.2754 - acc: 0.8870\n",
      "Epoch 3/15\n",
      "227/227 [==============================] - 8s 37ms/step - loss: 0.2227 - acc: 0.9159\n",
      "Epoch 4/15\n",
      "227/227 [==============================] - 9s 38ms/step - loss: 0.1709 - acc: 0.9351\n",
      "Epoch 5/15\n",
      "227/227 [==============================] - 8s 37ms/step - loss: 0.1268 - acc: 0.9544\n",
      "Epoch 6/15\n",
      "227/227 [==============================] - 8s 37ms/step - loss: 0.0857 - acc: 0.9686\n",
      "Epoch 7/15\n",
      "227/227 [==============================] - 8s 37ms/step - loss: 0.0551 - acc: 0.9821\n",
      "Epoch 8/15\n",
      "227/227 [==============================] - 8s 37ms/step - loss: 0.0360 - acc: 0.9895\n",
      "Epoch 9/15\n",
      "227/227 [==============================] - 8s 37ms/step - loss: 0.0238 - acc: 0.9931\n",
      "Epoch 10/15\n",
      "227/227 [==============================] - 8s 37ms/step - loss: 0.0210 - acc: 0.9943\n",
      "Epoch 11/15\n",
      "227/227 [==============================] - 8s 37ms/step - loss: 0.0109 - acc: 0.9964\n",
      "Epoch 12/15\n",
      "227/227 [==============================] - 8s 37ms/step - loss: 0.0104 - acc: 0.9966\n",
      "Epoch 13/15\n",
      "227/227 [==============================] - 8s 37ms/step - loss: 0.0095 - acc: 0.9970\n",
      "Epoch 14/15\n",
      "227/227 [==============================] - 8s 37ms/step - loss: 0.0083 - acc: 0.9977\n",
      "Epoch 15/15\n",
      "227/227 [==============================] - 8s 37ms/step - loss: 0.0091 - acc: 0.9979\n",
      "              precision    recall  f1-score   support\n",
      "\n",
      "           0       0.89      0.93      0.91      1727\n",
      "           1       0.80      0.71      0.75       691\n",
      "\n",
      "    accuracy                           0.86      2418\n",
      "   macro avg       0.84      0.82      0.83      2418\n",
      "weighted avg       0.86      0.86      0.86      2418\n",
      "\n",
      "Average precision:  0.9485857569535288\n",
      "ndcg:  0.9795024605047693\n"
     ]
    }
   ],
   "source": [
    "for train_index, test_index in StratifiedKFold(n_splits=n_folds, shuffle=shuffle, random_state=random_state).split(X_train, labels):\n",
    "    x_train, x_test = X_train[train_index], X_train[test_index]\n",
    "    y_train, y_test = Y_train[train_index], Y_train[test_index]\n",
    "    \n",
    "\n",
    "    # Enter TPU env:\n",
    "    print(\"x_train dimensions: \", x_train.shape)\n",
    "    print(\"y_train dimensions: \", y_train.shape)\n",
    "    if tpu_strategy is not None:\n",
    "        with tpu_strategy.scope():\n",
    "            # instantiate model\n",
    "            model = create_model(max_words, embedding_dim, max_len, embedding_matrix)\n",
    "            \n",
    "            # train model\n",
    "            print(\"Training ....\")\n",
    "            history = model.fit(x_train, y_train, epochs = 15)\n",
    "            \n",
    "            # print fold classification report\n",
    "            y_hat = model.predict(x_test, verbose = 0)\n",
    "            cfs_probs = y_hat[:, 1]\n",
    "            y_hat_classes = tf.argmax(y_hat, axis=1).numpy()\n",
    "            y_test_classes = tf.argmax(y_test, axis=1).numpy()\n",
    "    else:\n",
    "        model = create_model(max_words, embedding_dim, max_len, embedding_matrix)\n",
    "        print(\"Training ....\")\n",
    "        history = model.fit(x_train, y_train, epochs = 15)\n",
    "        # print fold classification report\n",
    "        y_hat = model.predict(x_test, verbose = 0)\n",
    "        cfs_probs = y_hat[:, 1]\n",
    "        y_hat_classes = tf.argmax(y_hat, axis=1).numpy()\n",
    "        y_test_classes = tf.argmax(y_test, axis=1).numpy()\n",
    "    \n",
    "    print(classification_report(y_test_classes, y_hat_classes, ))\n",
    "    print(\"Average precision: \", compute_average_precision(y_test_classes, y_hat_classes))\n",
    "    print(\"ndcg: \", compute_ndcg(y_test_classes, cfs_probs))\n",
    "    \n",
    "    # store predicted and true values for aggregated classification report\n",
    "    predicted_y_list.extend(y_hat_classes)\n",
    "    true_y_list.extend(y_test_classes)\n",
    "    cfs_probabilities.extend(cfs_probs)"
   ]
  },
  {
   "cell_type": "code",
   "execution_count": 15,
   "metadata": {
    "id": "OxwK6z_RuWhM"
   },
   "outputs": [
    {
     "name": "stdout",
     "output_type": "stream",
     "text": [
      "Classification report for all models\n",
      "              precision    recall  f1-score   support\n",
      "\n",
      "           0     0.9032    0.9142    0.9087      6910\n",
      "           1     0.7787    0.7551    0.7667      2764\n",
      "\n",
      "    accuracy                         0.8687      9674\n",
      "   macro avg     0.8410    0.8346    0.8377      9674\n",
      "weighted avg     0.8676    0.8687    0.8681      9674\n",
      "\n"
     ]
    }
   ],
   "source": [
    "print(\"Classification report for all models\")\n",
    "print(classification_report(true_y_list, predicted_y_list, digits=4))"
   ]
  },
  {
   "cell_type": "code",
   "execution_count": 16,
   "metadata": {
    "id": "zC8lW-V6uaGo"
   },
   "outputs": [
    {
     "name": "stdout",
     "output_type": "stream",
     "text": [
      "0.9516860967094833\n"
     ]
    }
   ],
   "source": [
    "precisions = compute_average_precision(true_y_list, predicted_y_list)\n",
    "print(precisions)"
   ]
  },
  {
   "cell_type": "code",
   "execution_count": 17,
   "metadata": {
    "id": "bYZf0wkauem2"
   },
   "outputs": [
    {
     "name": "stdout",
     "output_type": "stream",
     "text": [
      "0.9833205508722823\n"
     ]
    }
   ],
   "source": [
    "ndcg = compute_ndcg(true_y_list, cfs_probabilities)\n",
    "print(ndcg)"
   ]
  },
  {
   "cell_type": "markdown",
   "metadata": {
    "id": "zQQkO363ujks"
   },
   "source": [
    "##### Training model on full dataset and save it."
   ]
  },
  {
   "cell_type": "code",
   "execution_count": null,
   "metadata": {
    "id": "gci33w2g57CS"
   },
   "outputs": [],
   "source": [
    "# Reset saved_models dir\n",
    "rmtree(\"./saved_models\", ignore_errors=True)\n",
    "os.makedirs(\"saved_models\", exist_ok=False)"
   ]
  },
  {
   "cell_type": "code",
   "execution_count": null,
   "metadata": {
    "id": "C63G_pf8upNO"
   },
   "outputs": [],
   "source": [
    "with tpu_strategy.scope():\n",
    "    full_model = create_model(max_words, embedding_dim, max_len, embedding_matrix)"
   ]
  },
  {
   "cell_type": "code",
   "execution_count": null,
   "metadata": {
    "id": "wHFHL5PyuzS5"
   },
   "outputs": [],
   "source": [
    "with tpu_strategy.scope():\n",
    "    history = full_model.fit(X_train, Y_train, epochs = 14)"
   ]
  },
  {
   "cell_type": "code",
   "execution_count": null,
   "metadata": {
    "id": "nWnGR8wnu3BV"
   },
   "outputs": [],
   "source": [
    "full_model.save(os.path.join(\"./saved_models/\", 'Full_BiLSTM.h5'))"
   ]
  }
 ],
 "metadata": {
  "colab": {
   "collapsed_sections": [],
   "name": "ClaimBuster-BiLSTM.ipynb",
   "provenance": [],
   "toc_visible": true
  },
  "kernelspec": {
   "display_name": "Python 3 (ipykernel)",
   "language": "python",
   "name": "python3"
  },
  "language_info": {
   "codemirror_mode": {
    "name": "ipython",
    "version": 3
   },
   "file_extension": ".py",
   "mimetype": "text/x-python",
   "name": "python",
   "nbconvert_exporter": "python",
   "pygments_lexer": "ipython3",
   "version": "3.11.5"
  }
 },
 "nbformat": 4,
 "nbformat_minor": 4
}
